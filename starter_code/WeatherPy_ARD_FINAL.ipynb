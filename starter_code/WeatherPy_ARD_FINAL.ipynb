{
 "cells": [
  {
   "cell_type": "markdown",
   "metadata": {},
   "source": [
    "# WeatherPy\n",
    "----\n",
    "\n",
    "#### Note\n",
    "* Instructions have been included for each segment. You do not have to follow them exactly, but they are included to help you think through the steps."
   ]
  },
  {
   "cell_type": "code",
   "execution_count": 1,
   "metadata": {
    "scrolled": true
   },
   "outputs": [],
   "source": [
    "# Dependencies and Setup\n",
    "import matplotlib.pyplot as plt\n",
    "import pandas as pd\n",
    "import numpy as np\n",
    "import requests\n",
    "import time\n",
    "from scipy.stats import linregress\n",
    "from sklearn import datasets\n",
    "\n",
    "# Import API key\n",
    "from api_keys import weather_api_key\n",
    "\n",
    "# Incorporated citipy to determine city based on latitude and longitude\n",
    "from citipy import citipy\n",
    "\n",
    "# Output File (CSV)\n",
    "output_data_file = \"output_data/cities.csv\"\n",
    "\n",
    "# Range of latitudes and longitudes\n",
    "lat_range = (-90, 90)\n",
    "lng_range = (-180, 180)"
   ]
  },
  {
   "cell_type": "markdown",
   "metadata": {},
   "source": [
    "## Generate Cities List"
   ]
  },
  {
   "cell_type": "code",
   "execution_count": 2,
   "metadata": {
    "scrolled": false
   },
   "outputs": [
    {
     "name": "stdout",
     "output_type": "stream",
     "text": [
      "634 tsihombe boa vista\n"
     ]
    }
   ],
   "source": [
    "# List for holding lat_lngs and cities\n",
    "lat_lngs = []\n",
    "cities = []\n",
    "\n",
    "# Create a set of random lat and lng combinations\n",
    "lats = np.random.uniform(lat_range[0], lat_range[1], size=1500)\n",
    "lngs = np.random.uniform(lng_range[0], lng_range[1], size=1500)\n",
    "lat_lngs = zip(lats, lngs)\n",
    "\n",
    "# Identify nearest city for each lat, lng combination\n",
    "for lat_lng in lat_lngs:\n",
    "    city = citipy.nearest_city(lat_lng[0], lat_lng[1]).city_name\n",
    "    \n",
    "    # If the city is unique, then add it to a our cities list\n",
    "    if city not in cities:\n",
    "        cities.append(city)\n",
    "\n",
    "# Print the city count to confirm sufficient count\n",
    "print(str(len(cities)) + \" \" + cities[0] + \" \" + cities[len(cities)-1])"
   ]
  },
  {
   "cell_type": "code",
   "execution_count": 3,
   "metadata": {},
   "outputs": [],
   "source": [
    "# Save config information.\n",
    "url = \"http://api.openweathermap.org/data/2.5/weather?\"\n",
    "units = \"Imperial\"\n",
    "\n",
    "# Build partial query URL\n",
    "query_url = f\"{url}appid={weather_api_key}&units={units}&q=\""
   ]
  },
  {
   "cell_type": "markdown",
   "metadata": {},
   "source": [
    "### Perform API Calls\n",
    "* Perform a weather check on each city using a series of successive API calls.\n",
    "* Include a print log of each city as it'sbeing processed (with the city number and city name).\n"
   ]
  },
  {
   "cell_type": "code",
   "execution_count": 4,
   "metadata": {},
   "outputs": [
    {
     "data": {
      "text/plain": [
       "{'coord': {'lon': 18.61, 'lat': 69.13},\n",
       " 'weather': [{'id': 800,\n",
       "   'main': 'Clear',\n",
       "   'description': 'clear sky',\n",
       "   'icon': '01d'}],\n",
       " 'base': 'stations',\n",
       " 'main': {'temp': 46.4,\n",
       "  'feels_like': 34.16,\n",
       "  'temp_min': 46.4,\n",
       "  'temp_max': 46.4,\n",
       "  'pressure': 1013,\n",
       "  'humidity': 93},\n",
       " 'visibility': 10000,\n",
       " 'wind': {'speed': 19.46, 'deg': 150},\n",
       " 'clouds': {'all': 8},\n",
       " 'dt': 1595809348,\n",
       " 'sys': {'type': 1,\n",
       "  'id': 1619,\n",
       "  'country': 'NO',\n",
       "  'sunrise': 1595808182,\n",
       "  'sunset': 1595886051},\n",
       " 'timezone': 7200,\n",
       " 'id': 3145649,\n",
       " 'name': 'Moen',\n",
       " 'cod': 200}"
      ]
     },
     "execution_count": 4,
     "metadata": {},
     "output_type": "execute_result"
    }
   ],
   "source": [
    "response = requests.get(query_url + cities[3]).json()\n",
    "response"
   ]
  },
  {
   "cell_type": "code",
   "execution_count": 5,
   "metadata": {},
   "outputs": [
    {
     "name": "stdout",
     "output_type": "stream",
     "text": [
      "Processing Record 1 | tsihombe not found\n",
      "Processing Record 2 | bredasdorp\n",
      "Processing Record 3 | norman wells\n",
      "Processing Record 4 | moen\n",
      "Processing Record 5 | saint simons\n",
      "Processing Record 6 | coquimbo\n",
      "Processing Record 7 | ribeira grande\n",
      "Processing Record 8 | port alfred\n",
      "Processing Record 9 | mataura\n",
      "Processing Record 10 | dedza\n",
      "Processing Record 11 | attawapiskat not found\n",
      "Processing Record 12 | kuche not found\n",
      "Processing Record 13 | barentsburg not found\n",
      "Processing Record 14 | rikitea\n",
      "Processing Record 15 | yar-sale\n",
      "Processing Record 16 | zhigansk\n",
      "Processing Record 17 | curup\n",
      "Processing Record 18 | barrow\n",
      "Processing Record 19 | east london\n",
      "Processing Record 20 | ushuaia\n",
      "Processing Record 21 | tiksi\n",
      "Processing Record 22 | sur\n",
      "Processing Record 23 | srandakan\n",
      "Processing Record 24 | meyungs not found\n",
      "Processing Record 25 | amderma not found\n",
      "Processing Record 26 | ixtapa\n",
      "Processing Record 27 | southbridge\n",
      "Processing Record 28 | bathsheba\n",
      "Processing Record 29 | busselton\n",
      "Processing Record 30 | aklavik\n",
      "Processing Record 31 | saldanha\n",
      "Processing Record 32 | port macquarie\n",
      "Processing Record 33 | pearland\n",
      "Processing Record 34 | hermanus\n",
      "Processing Record 35 | clyde river\n",
      "Processing Record 36 | mahebourg\n",
      "Processing Record 37 | krasnoselkup\n",
      "Processing Record 38 | punta arenas\n",
      "Processing Record 39 | thinadhoo\n",
      "Processing Record 40 | ngunguru\n",
      "Processing Record 41 | belle fourche\n",
      "Processing Record 42 | blackwater\n",
      "Processing Record 43 | naze\n",
      "Processing Record 44 | bambous virieux\n",
      "Processing Record 45 | dongsheng\n",
      "Processing Record 46 | fortuna\n",
      "Processing Record 47 | albany\n",
      "Processing Record 48 | qaanaaq\n",
      "Processing Record 49 | north bend\n",
      "Processing Record 50 | nouadhibou\n",
      "Processing Record 51 | fredericksburg\n",
      "Processing Record 52 | phitsanulok\n",
      "Processing Record 53 | ponta delgada\n",
      "Processing Record 54 | walvis bay\n",
      "Processing Record 55 | san patricio\n",
      "Processing Record 56 | port elizabeth\n",
      "Processing Record 57 | esperance\n",
      "Processing Record 58 | whitehorse\n",
      "Processing Record 59 | lipari\n",
      "Processing Record 60 | lavrentiya\n",
      "Processing Record 61 | rawson\n",
      "Processing Record 62 | plouzane\n",
      "Processing Record 63 | lebu\n",
      "Processing Record 64 | tilichiki\n",
      "Processing Record 65 | ambilobe\n",
      "Processing Record 66 | matay\n",
      "Processing Record 67 | gainesville\n",
      "Processing Record 68 | pevek\n",
      "Processing Record 69 | ostrovnoy\n",
      "Processing Record 70 | roma\n",
      "Processing Record 71 | vaini\n",
      "Processing Record 72 | hobart\n",
      "Processing Record 73 | viedma\n",
      "Processing Record 74 | flin flon\n",
      "Processing Record 75 | saint-philippe\n",
      "Processing Record 76 | cidreira\n",
      "Processing Record 77 | illoqqortoormiut not found\n",
      "Processing Record 78 | te anau\n",
      "Processing Record 79 | berdigestyakh\n",
      "Processing Record 80 | guerrero negro\n",
      "Processing Record 81 | narsaq\n",
      "Processing Record 82 | new norfolk\n",
      "Processing Record 83 | husavik\n",
      "Processing Record 84 | tuktoyaktuk\n",
      "Processing Record 85 | katsuura\n",
      "Processing Record 86 | puerto ayora\n",
      "Processing Record 87 | lillooet\n",
      "Processing Record 88 | iqaluit\n",
      "Processing Record 89 | altamont\n",
      "Processing Record 90 | pocri\n",
      "Processing Record 91 | vaitupu not found\n",
      "Processing Record 92 | fairbanks\n",
      "Processing Record 93 | high level\n",
      "Processing Record 94 | kodiak\n",
      "Processing Record 95 | umm lajj\n",
      "Processing Record 96 | tabiauea not found\n",
      "Processing Record 97 | oussouye\n",
      "Processing Record 98 | nikolskoye\n",
      "Processing Record 99 | codrington\n",
      "Processing Record 100 | chuy\n",
      "Processing Record 101 | melk\n",
      "Processing Record 102 | gazalkent\n",
      "Processing Record 103 | souillac\n",
      "Processing Record 104 | airai\n",
      "Processing Record 105 | alyangula\n",
      "Processing Record 106 | wenling\n",
      "Processing Record 107 | stephenville\n",
      "Processing Record 108 | bluff\n",
      "Processing Record 109 | erenhot\n",
      "Processing Record 110 | zhezkazgan\n",
      "Processing Record 111 | avarua\n",
      "Processing Record 112 | caxias\n",
      "Processing Record 113 | taolanaro not found\n",
      "Processing Record 114 | mahadday weyne not found\n",
      "Processing Record 115 | ballina\n",
      "Processing Record 116 | grand river south east not found\n",
      "Processing Record 117 | provideniya\n",
      "Processing Record 118 | lorengau\n",
      "Processing Record 119 | doha\n",
      "Processing Record 120 | khatanga\n",
      "Processing Record 121 | cape town\n",
      "Processing Record 122 | byron bay\n",
      "Processing Record 123 | castro\n",
      "Processing Record 124 | goderich\n",
      "Processing Record 125 | thompson\n",
      "Processing Record 126 | abonnema\n",
      "Processing Record 127 | severo-kurilsk\n",
      "Processing Record 128 | harlingen\n",
      "Processing Record 129 | jamestown\n",
      "Processing Record 130 | port hedland\n",
      "Processing Record 131 | nanortalik\n",
      "Processing Record 132 | sulina\n",
      "Processing Record 133 | cherskiy\n",
      "Processing Record 134 | arraial do cabo\n",
      "Processing Record 135 | stornoway\n",
      "Processing Record 136 | arlit\n",
      "Processing Record 137 | xiongzhou\n",
      "Processing Record 138 | dalmatovo\n",
      "Processing Record 139 | changji\n",
      "Processing Record 140 | necochea\n",
      "Processing Record 141 | saskylakh\n",
      "Processing Record 142 | dayong\n",
      "Processing Record 143 | paris\n",
      "Processing Record 144 | dikson\n",
      "Processing Record 145 | mahroni\n",
      "Processing Record 146 | clarksdale\n",
      "Processing Record 147 | chokurdakh\n",
      "Processing Record 148 | warqla not found\n",
      "Processing Record 149 | arman\n",
      "Processing Record 150 | carnarvon\n",
      "Processing Record 151 | samarai\n",
      "Processing Record 152 | barcelos\n",
      "Processing Record 153 | belushya guba not found\n",
      "Processing Record 154 | longyearbyen\n",
      "Processing Record 155 | hailar\n",
      "Processing Record 156 | cabo san lucas\n",
      "Processing Record 157 | port-gentil\n",
      "Processing Record 158 | sayyan\n",
      "Processing Record 159 | tumannyy not found\n",
      "Processing Record 160 | torbay\n",
      "Processing Record 161 | bo phloi\n",
      "Processing Record 162 | el carmen\n",
      "Processing Record 163 | carutapera\n",
      "Processing Record 164 | kapaa\n",
      "Processing Record 165 | nadvoitsy\n",
      "Processing Record 166 | riyadh\n",
      "Processing Record 167 | yellowknife\n",
      "Processing Record 168 | mangrol\n",
      "Processing Record 169 | novo aripuana\n",
      "Processing Record 170 | alihe\n",
      "Processing Record 171 | mar del plata\n",
      "Processing Record 172 | taonan\n",
      "Processing Record 173 | kruisfontein\n",
      "Processing Record 174 | yenagoa\n",
      "Processing Record 175 | gangotri not found\n",
      "Processing Record 176 | vardo\n",
      "Processing Record 177 | soure\n",
      "Processing Record 178 | half moon bay\n",
      "Processing Record 179 | marquette\n",
      "Processing Record 180 | waipawa\n",
      "Processing Record 181 | cabedelo\n",
      "Processing Record 182 | banda aceh\n",
      "Processing Record 183 | margate\n",
      "Processing Record 184 | inuvik\n",
      "Processing Record 185 | talnakh\n",
      "Processing Record 186 | grindavik\n",
      "Processing Record 187 | bengkulu\n",
      "Processing Record 188 | conceicao do araguaia\n",
      "Processing Record 189 | sarangani\n",
      "Processing Record 190 | chimbote\n",
      "Processing Record 191 | san cristobal\n",
      "Processing Record 192 | tazovskiy\n",
      "Processing Record 193 | ust-kut\n",
      "Processing Record 194 | hasaki\n",
      "Processing Record 195 | aswan\n",
      "Processing Record 196 | constitucion\n",
      "Processing Record 197 | mecca\n",
      "Processing Record 198 | kuala terengganu\n",
      "Processing Record 199 | jiaohe\n",
      "Processing Record 200 | hilo\n",
      "Processing Record 201 | sinnamary\n",
      "Processing Record 202 | rio grande\n",
      "Processing Record 203 | isangel\n",
      "Processing Record 204 | po not found\n",
      "Processing Record 205 | samalaeulu not found\n",
      "Processing Record 206 | basoko\n",
      "Processing Record 207 | valkeala\n",
      "Processing Record 208 | norrtalje\n",
      "Processing Record 209 | black diamond\n",
      "Processing Record 210 | port said\n",
      "Processing Record 211 | pisco\n",
      "Processing Record 212 | biak\n",
      "Processing Record 213 | tongling\n",
      "Processing Record 214 | iranshahr\n",
      "Processing Record 215 | san quintin\n",
      "Processing Record 216 | vila velha\n",
      "Processing Record 217 | kavaratti\n",
      "Processing Record 218 | oum hadjer\n",
      "Processing Record 219 | montrose\n",
      "Processing Record 220 | mount gambier\n",
      "Processing Record 221 | mount darwin\n",
      "Processing Record 222 | paamiut\n",
      "Processing Record 223 | phaltan\n",
      "Processing Record 224 | solnechnyy\n",
      "Processing Record 225 | filadelfia\n",
      "Processing Record 226 | chernyshevskiy\n",
      "Processing Record 227 | yulara\n",
      "Processing Record 228 | artyk not found\n",
      "Processing Record 229 | severnoye\n",
      "Processing Record 230 | inhambane\n",
      "Processing Record 231 | sibu\n",
      "Processing Record 232 | mocambique not found\n",
      "Processing Record 233 | butaritari\n",
      "Processing Record 234 | chicama\n",
      "Processing Record 235 | shimoda\n",
      "Processing Record 236 | ibipeba\n",
      "Processing Record 237 | ponta do sol\n",
      "Processing Record 238 | atuona\n",
      "Processing Record 239 | manaia\n",
      "Processing Record 240 | puerto narino\n",
      "Processing Record 241 | olinda\n"
     ]
    },
    {
     "name": "stdout",
     "output_type": "stream",
     "text": [
      "Processing Record 242 | high prairie\n",
      "Processing Record 243 | palauig\n",
      "Processing Record 244 | saint george\n",
      "Processing Record 245 | glendive\n",
      "Processing Record 246 | skibbereen\n",
      "Processing Record 247 | valdivia\n",
      "Processing Record 248 | takoradi\n",
      "Processing Record 249 | touros\n",
      "Processing Record 250 | lebanon\n",
      "Processing Record 251 | pochutla\n",
      "Processing Record 252 | pathardi\n",
      "Processing Record 253 | maghama not found\n",
      "Processing Record 254 | brownsville\n",
      "Processing Record 255 | kaitangata\n",
      "Processing Record 256 | road town\n",
      "Processing Record 257 | monrovia\n",
      "Processing Record 258 | sola\n",
      "Processing Record 259 | labuhan\n",
      "Processing Record 260 | fort saint john not found\n",
      "Processing Record 261 | samusu not found\n",
      "Processing Record 262 | karratha\n",
      "Processing Record 263 | taoudenni\n",
      "Processing Record 264 | areni\n",
      "Processing Record 265 | jalu\n",
      "Processing Record 266 | fonte boa\n",
      "Processing Record 267 | georgetown\n",
      "Processing Record 268 | melito di porto salvo\n",
      "Processing Record 269 | chapais\n",
      "Processing Record 270 | ilulissat\n",
      "Processing Record 271 | challans\n",
      "Processing Record 272 | kerki not found\n",
      "Processing Record 273 | namatanai\n",
      "Processing Record 274 | wagar\n",
      "Processing Record 275 | poum\n",
      "Processing Record 276 | ouallam\n",
      "Processing Record 277 | wahran not found\n",
      "Processing Record 278 | gamba\n",
      "Processing Record 279 | bongandanga\n",
      "Processing Record 280 | sentyabrskiy not found\n",
      "Processing Record 281 | linqiong\n",
      "Processing Record 282 | sitka\n",
      "Processing Record 283 | saint-michel-des-saints\n",
      "Processing Record 284 | ahipara\n",
      "Processing Record 285 | pecos\n",
      "Processing Record 286 | ayan\n",
      "Processing Record 287 | upernavik\n",
      "Processing Record 288 | villarrica\n",
      "Processing Record 289 | maarianhamina\n",
      "Processing Record 290 | uwajima\n",
      "Processing Record 291 | deputatskiy\n",
      "Processing Record 292 | ust-tsilma\n",
      "Processing Record 293 | santa rosa\n",
      "Processing Record 294 | nizhneyansk not found\n",
      "Processing Record 295 | chemainus\n",
      "Processing Record 296 | vestmannaeyjar\n",
      "Processing Record 297 | whitianga\n",
      "Processing Record 298 | tomatlan\n",
      "Processing Record 299 | haverfordwest\n",
      "Processing Record 300 | xuanwu\n",
      "Processing Record 301 | laibin\n",
      "Processing Record 302 | hundested\n",
      "Processing Record 303 | waddan\n",
      "Processing Record 304 | marsh harbour\n",
      "Processing Record 305 | pangnirtung\n",
      "Processing Record 306 | sabang\n",
      "Processing Record 307 | muzhi\n",
      "Processing Record 308 | trapani\n",
      "Processing Record 309 | umzimvubu not found\n",
      "Processing Record 310 | klaksvik\n",
      "Processing Record 311 | buraydah\n",
      "Processing Record 312 | geraldton\n",
      "Processing Record 313 | cap malheureux\n",
      "Processing Record 314 | oranjemund\n",
      "Processing Record 315 | kirkwall\n",
      "Processing Record 316 | obigarm\n",
      "Processing Record 317 | oistins\n",
      "Processing Record 318 | kudahuvadhoo\n",
      "Processing Record 319 | dzilam gonzalez\n",
      "Processing Record 320 | diffa\n",
      "Processing Record 321 | haysyn\n",
      "Processing Record 322 | peterhead\n",
      "Processing Record 323 | tongzi\n",
      "Processing Record 324 | skjervoy\n",
      "Processing Record 325 | viligili not found\n",
      "Processing Record 326 | pestovo\n",
      "Processing Record 327 | meulaboh\n",
      "Processing Record 328 | zhangjiakou\n",
      "Processing Record 329 | pocatello\n",
      "Processing Record 330 | vostok\n",
      "Processing Record 331 | rio gallegos\n",
      "Processing Record 332 | balkanabat\n",
      "Processing Record 333 | clarence town\n",
      "Processing Record 334 | northam\n",
      "Processing Record 335 | panacan\n",
      "Processing Record 336 | gaozhou\n",
      "Processing Record 337 | bone\n",
      "Processing Record 338 | bonthe\n",
      "Processing Record 339 | laguna\n",
      "Processing Record 340 | arvika\n",
      "Processing Record 341 | kununurra\n",
      "Processing Record 342 | tishchenskoye\n",
      "Processing Record 343 | general pico\n",
      "Processing Record 344 | zapolyarnyy\n",
      "Processing Record 345 | vagay\n",
      "Processing Record 346 | leh\n",
      "Processing Record 347 | kampot\n",
      "Processing Record 348 | blagoyevo\n",
      "Processing Record 349 | ruatoria not found\n",
      "Processing Record 350 | alugan\n",
      "Processing Record 351 | saint-francois\n",
      "Processing Record 352 | victoria\n",
      "Processing Record 353 | coahuayana\n",
      "Processing Record 354 | bria\n",
      "Processing Record 355 | salalah\n",
      "Processing Record 356 | hirara\n",
      "Processing Record 357 | shevchenko\n",
      "Processing Record 358 | flinders\n",
      "Processing Record 359 | gejiu\n",
      "Processing Record 360 | santo tomas\n",
      "Processing Record 361 | jinchengjiang not found\n",
      "Processing Record 362 | pangkalanbuun\n",
      "Processing Record 363 | nsanje\n",
      "Processing Record 364 | novyy urengoy\n",
      "Processing Record 365 | khanpur\n",
      "Processing Record 366 | acarau\n",
      "Processing Record 367 | lalomanu not found\n",
      "Processing Record 368 | nisia floresta\n",
      "Processing Record 369 | mehamn\n",
      "Processing Record 370 | nhulunbuy\n",
      "Processing Record 371 | vavatenina\n",
      "Processing Record 372 | nuevo progreso\n",
      "Processing Record 373 | tabou\n",
      "Processing Record 374 | lucea\n",
      "Processing Record 375 | paramonga\n",
      "Processing Record 376 | bintulu\n",
      "Processing Record 377 | tanggu\n",
      "Processing Record 378 | tasiilaq\n",
      "Processing Record 379 | tual\n",
      "Processing Record 380 | denizli\n",
      "Processing Record 381 | buchanan\n",
      "Processing Record 382 | rolim de moura not found\n",
      "Processing Record 383 | erzin\n",
      "Processing Record 384 | hoa binh\n",
      "Processing Record 385 | rocha\n",
      "Processing Record 386 | aguimes\n",
      "Processing Record 387 | najran\n",
      "Processing Record 388 | peniche\n",
      "Processing Record 389 | nizwa\n",
      "Processing Record 390 | soyo\n",
      "Processing Record 391 | osmanabad\n",
      "Processing Record 392 | kasempa\n",
      "Processing Record 393 | palmer\n",
      "Processing Record 394 | xinzhou\n",
      "Processing Record 395 | sao joao da barra\n",
      "Processing Record 396 | buluang\n",
      "Processing Record 397 | anadyr\n",
      "Processing Record 398 | coihaique\n",
      "Processing Record 399 | kalispell\n",
      "Processing Record 400 | marsaxlokk\n",
      "Processing Record 401 | bambanglipuro\n",
      "Processing Record 402 | buon me thuot not found\n",
      "Processing Record 403 | skovorodino\n",
      "Processing Record 404 | ancud\n",
      "Processing Record 405 | bethel\n",
      "Processing Record 406 | florida\n",
      "Processing Record 407 | wanlaweyn\n",
      "Processing Record 408 | shelburne\n",
      "Processing Record 409 | clinton\n",
      "Processing Record 410 | talisay\n",
      "Processing Record 411 | omboue\n",
      "Processing Record 412 | uyuni\n",
      "Processing Record 413 | banyuwangi\n",
      "Processing Record 414 | linxi\n",
      "Processing Record 415 | maku\n",
      "Processing Record 416 | holme\n",
      "Processing Record 417 | kahului\n",
      "Processing Record 418 | kibara\n",
      "Processing Record 419 | beringovskiy\n",
      "Processing Record 420 | katobu\n",
      "Processing Record 421 | verkhnyaya inta\n",
      "Processing Record 422 | mrirt not found\n",
      "Processing Record 423 | illapel\n",
      "Processing Record 424 | mys shmidta not found\n",
      "Processing Record 425 | dalinghe not found\n",
      "Processing Record 426 | sorvag not found\n",
      "Processing Record 427 | chernigovka\n",
      "Processing Record 428 | pimenta bueno\n",
      "Processing Record 429 | mount isa\n",
      "Processing Record 430 | tandalti\n",
      "Processing Record 431 | manzil tamim not found\n",
      "Processing Record 432 | kalmunai\n",
      "Processing Record 433 | olafsvik\n",
      "Processing Record 434 | hirado\n",
      "Processing Record 435 | brae\n",
      "Processing Record 436 | konevo\n",
      "Processing Record 437 | the valley\n",
      "Processing Record 438 | abu samrah\n",
      "Processing Record 439 | dibaya not found\n",
      "Processing Record 440 | mana\n",
      "Processing Record 441 | schwerin\n",
      "Processing Record 442 | comodoro rivadavia\n",
      "Processing Record 443 | ranst\n",
      "Processing Record 444 | la ronge\n",
      "Processing Record 445 | broken hill\n",
      "Processing Record 446 | bandar-e lengeh\n",
      "Processing Record 447 | tommot\n",
      "Processing Record 448 | wladyslawowo\n",
      "Processing Record 449 | itarema\n",
      "Processing Record 450 | dolinsk\n",
      "Processing Record 451 | portel\n",
      "Processing Record 452 | bonoua\n",
      "Processing Record 453 | noumea\n",
      "Processing Record 454 | hithadhoo\n",
      "Processing Record 455 | mardin\n",
      "Processing Record 456 | makakilo city\n",
      "Processing Record 457 | davila\n",
      "Processing Record 458 | xian\n",
      "Processing Record 459 | bolshegrivskoye not found\n",
      "Processing Record 460 | nuuk\n",
      "Processing Record 461 | ishigaki\n",
      "Processing Record 462 | atbasar\n",
      "Processing Record 463 | yaan\n",
      "Processing Record 464 | mbuji-mayi\n",
      "Processing Record 465 | lakes entrance\n",
      "Processing Record 466 | fort saint james\n",
      "Processing Record 467 | tautira\n",
      "Processing Record 468 | avera\n",
      "Processing Record 469 | columbus\n",
      "Processing Record 470 | conde\n",
      "Processing Record 471 | bemidji\n",
      "Processing Record 472 | labutta not found\n",
      "Processing Record 473 | mugur-aksy\n",
      "Processing Record 474 | kawalu\n",
      "Processing Record 475 | zolotinka not found\n",
      "Processing Record 476 | hudson bay\n",
      "Processing Record 477 | sao filipe\n",
      "Processing Record 478 | yanam\n",
      "Processing Record 479 | grimari not found\n",
      "Processing Record 480 | caravelas\n"
     ]
    },
    {
     "name": "stdout",
     "output_type": "stream",
     "text": [
      "Processing Record 481 | yatou\n",
      "Processing Record 482 | moron\n",
      "Processing Record 483 | dingle\n",
      "Processing Record 484 | mudyuga not found\n",
      "Processing Record 485 | barbar not found\n",
      "Processing Record 486 | mahon\n",
      "Processing Record 487 | chamrajnagar\n",
      "Processing Record 488 | palu\n",
      "Processing Record 489 | svitavy\n",
      "Processing Record 490 | broome\n",
      "Processing Record 491 | keffi\n",
      "Processing Record 492 | namibe\n",
      "Processing Record 493 | komsomolskiy\n",
      "Processing Record 494 | santa luzia\n",
      "Processing Record 495 | mayo\n",
      "Processing Record 496 | darhan\n",
      "Processing Record 497 | nieuw nickerie\n",
      "Processing Record 498 | kavieng\n",
      "Processing Record 499 | baghdad\n",
      "Processing Record 500 | lemesos not found\n",
      "Processing Record 501 | progreso\n",
      "Processing Record 502 | vao\n",
      "Processing Record 503 | tezu\n",
      "Processing Record 504 | rawah\n",
      "Processing Record 505 | kathu\n",
      "Processing Record 506 | petlawad\n",
      "Processing Record 507 | moussoro\n",
      "Processing Record 508 | constantine\n",
      "Processing Record 509 | lucapa\n",
      "Processing Record 510 | bodaybo\n",
      "Processing Record 511 | rongcheng\n",
      "Processing Record 512 | bilma\n",
      "Processing Record 513 | kropotkin\n",
      "Processing Record 514 | vestmanna\n",
      "Processing Record 515 | beausejour\n",
      "Processing Record 516 | denpasar\n",
      "Processing Record 517 | kjollefjord\n",
      "Processing Record 518 | port hardy\n",
      "Processing Record 519 | micheweni\n",
      "Processing Record 520 | barnala\n",
      "Processing Record 521 | nemuro\n",
      "Processing Record 522 | maridi\n",
      "Processing Record 523 | saleaula not found\n",
      "Processing Record 524 | ileza\n",
      "Processing Record 525 | haines junction\n",
      "Processing Record 526 | sisimiut\n",
      "Processing Record 527 | millau\n",
      "Processing Record 528 | husainabad\n",
      "Processing Record 529 | verkhoyansk\n",
      "Processing Record 530 | is not found\n",
      "Processing Record 531 | guarapari\n",
      "Processing Record 532 | ust-maya\n",
      "Processing Record 533 | ha tinh\n",
      "Processing Record 534 | waw\n",
      "Processing Record 535 | chibombo\n",
      "Processing Record 536 | tafresh\n",
      "Processing Record 537 | feldkirchen an der donau\n",
      "Processing Record 538 | ballarat\n",
      "Processing Record 539 | waingapu\n",
      "Processing Record 540 | gigmoto\n",
      "Processing Record 541 | montefiascone\n",
      "Processing Record 542 | abhar\n",
      "Processing Record 543 | portland\n",
      "Processing Record 544 | balikpapan\n",
      "Processing Record 545 | nicoya\n",
      "Processing Record 546 | general roca\n",
      "Processing Record 547 | konosha\n",
      "Processing Record 548 | araouane\n",
      "Processing Record 549 | batagay-alyta\n",
      "Processing Record 550 | san blas\n",
      "Processing Record 551 | wuzhou\n",
      "Processing Record 552 | talara\n",
      "Processing Record 553 | bubaque\n",
      "Processing Record 554 | sibolga\n",
      "Processing Record 555 | belaya gora\n",
      "Processing Record 556 | akdepe\n",
      "Processing Record 557 | kamenka\n",
      "Processing Record 558 | aloleng\n",
      "Processing Record 559 | fereydunshahr\n",
      "Processing Record 560 | gunjur\n",
      "Processing Record 561 | sohag\n",
      "Processing Record 562 | sangar\n",
      "Processing Record 563 | cabanbanan\n",
      "Processing Record 564 | zavoronezhskoye\n",
      "Processing Record 565 | raton\n",
      "Processing Record 566 | beberibe\n",
      "Processing Record 567 | alofi\n",
      "Processing Record 568 | pangai\n",
      "Processing Record 569 | tuatapere\n",
      "Processing Record 570 | guadalupe victoria\n",
      "Processing Record 571 | egvekinot\n",
      "Processing Record 572 | lady frere\n",
      "Processing Record 573 | satitoa not found\n",
      "Processing Record 574 | aripuana\n",
      "Processing Record 575 | tandil\n",
      "Processing Record 576 | urumqi\n",
      "Processing Record 577 | alice springs\n",
      "Processing Record 578 | faanui\n",
      "Processing Record 579 | port shepstone\n",
      "Processing Record 580 | altamira\n",
      "Processing Record 581 | talisayan\n",
      "Processing Record 582 | mirnyy\n",
      "Processing Record 583 | maine-soroa\n",
      "Processing Record 584 | eureka\n",
      "Processing Record 585 | adrar\n",
      "Processing Record 586 | revelstoke\n",
      "Processing Record 587 | udachnyy\n",
      "Processing Record 588 | tres arroyos\n",
      "Processing Record 589 | los alamos\n",
      "Processing Record 590 | tawkar not found\n",
      "Processing Record 591 | saint anthony\n",
      "Processing Record 592 | thaba-tseka\n",
      "Processing Record 593 | kerema\n",
      "Processing Record 594 | birin\n",
      "Processing Record 595 | yeppoon\n",
      "Processing Record 596 | lompoc\n",
      "Processing Record 597 | misratah\n",
      "Processing Record 598 | aykhal\n",
      "Processing Record 599 | uusikaupunki\n",
      "Processing Record 600 | vila franca do campo\n",
      "Processing Record 601 | daru\n",
      "Processing Record 602 | sambava\n",
      "Processing Record 603 | salinopolis\n",
      "Processing Record 604 | baturaja\n",
      "Processing Record 605 | ferme-neuve\n",
      "Processing Record 606 | anito\n",
      "Processing Record 607 | lamu\n",
      "Processing Record 608 | arrifes\n",
      "Processing Record 609 | tigil\n",
      "Processing Record 610 | panama city\n",
      "Processing Record 611 | cayenne\n",
      "Processing Record 612 | trelaze\n",
      "Processing Record 613 | saiha\n",
      "Processing Record 614 | cassilandia\n",
      "Processing Record 615 | suvorovo\n",
      "Processing Record 616 | lake cowichan\n",
      "Processing Record 617 | xai-xai\n",
      "Processing Record 618 | hofn\n",
      "Processing Record 619 | owerri\n",
      "Processing Record 620 | foki\n",
      "Processing Record 621 | bud\n",
      "Processing Record 622 | tashtyp\n",
      "Processing Record 623 | karla\n",
      "Processing Record 624 | amapa\n",
      "Processing Record 625 | kenai\n",
      "Processing Record 626 | da nang\n",
      "Processing Record 627 | strai\n",
      "Processing Record 628 | kendari\n",
      "Processing Record 629 | minna\n",
      "Processing Record 630 | grand gaube\n",
      "Processing Record 631 | akureyri\n",
      "Processing Record 632 | xining\n",
      "Processing Record 633 | nangomba\n",
      "Processing Record 634 | boa vista\n"
     ]
    }
   ],
   "source": [
    "# set up lists to hold reponse info\n",
    "city_name = []\n",
    "cloudiness = []\n",
    "date = []\n",
    "humidity = []\n",
    "lat = []\n",
    "lng = []\n",
    "max_temp = []\n",
    "wind_speed = []\n",
    "country = []\n",
    "record_count = 0\n",
    "\n",
    "# Loop through the list of cities and perform a request for data on each\n",
    "for city in cities:\n",
    "    record_count = record_count + 1\n",
    "    response = requests.get(query_url + city).json()\n",
    "    try:\n",
    "        city_name.append(response['name'])\n",
    "        cloudiness.append(response['clouds']['all'])\n",
    "        date.append(response['dt'])\n",
    "        humidity.append(response['main']['humidity'])\n",
    "        lat.append(response['coord']['lat'])\n",
    "        lng.append(response['coord']['lon'])\n",
    "        max_temp.append(response['main']['temp_max'])\n",
    "        wind_speed.append(response['wind']['speed'])\n",
    "        country.append(response['sys']['country'])\n",
    "        print(\"Processing Record \" + str(record_count) + \" | \" + city)  \n",
    "    except:\n",
    "        print(\"Processing Record \" + str(record_count) + \" | \" + city + \" not found\") \n"
   ]
  },
  {
   "cell_type": "markdown",
   "metadata": {},
   "source": [
    "### Convert Raw Data to DataFrame\n",
    "* Export the city data into a .csv.\n",
    "* Display the DataFrame"
   ]
  },
  {
   "cell_type": "code",
   "execution_count": 6,
   "metadata": {
    "scrolled": false
   },
   "outputs": [
    {
     "data": {
      "text/plain": [
       "City          583\n",
       "Lat           583\n",
       "Lng           583\n",
       "Max Temp      583\n",
       "Humidity      583\n",
       "Cloudiness    583\n",
       "Wind Speed    583\n",
       "Country       583\n",
       "Date          583\n",
       "dtype: int64"
      ]
     },
     "execution_count": 6,
     "metadata": {},
     "output_type": "execute_result"
    }
   ],
   "source": [
    "# Create DataFrame\n",
    "city_weather = pd.DataFrame({\n",
    "    'City': city_name,\n",
    "    'Lat': lat,\n",
    "    'Lng': lng, \n",
    "    'Max Temp': max_temp,\n",
    "    'Humidity': humidity,\n",
    "    'Cloudiness': cloudiness, \n",
    "    'Wind Speed': wind_speed,\n",
    "    'Country': country,\n",
    "    'Date': date})\n",
    "city_weather.count(axis='rows')"
   ]
  },
  {
   "cell_type": "code",
   "execution_count": 7,
   "metadata": {
    "scrolled": true
   },
   "outputs": [
    {
     "data": {
      "text/html": [
       "<div>\n",
       "<style scoped>\n",
       "    .dataframe tbody tr th:only-of-type {\n",
       "        vertical-align: middle;\n",
       "    }\n",
       "\n",
       "    .dataframe tbody tr th {\n",
       "        vertical-align: top;\n",
       "    }\n",
       "\n",
       "    .dataframe thead th {\n",
       "        text-align: right;\n",
       "    }\n",
       "</style>\n",
       "<table border=\"1\" class=\"dataframe\">\n",
       "  <thead>\n",
       "    <tr style=\"text-align: right;\">\n",
       "      <th></th>\n",
       "      <th>City</th>\n",
       "      <th>Lat</th>\n",
       "      <th>Lng</th>\n",
       "      <th>Max Temp</th>\n",
       "      <th>Humidity</th>\n",
       "      <th>Cloudiness</th>\n",
       "      <th>Wind Speed</th>\n",
       "      <th>Country</th>\n",
       "      <th>Date</th>\n",
       "    </tr>\n",
       "  </thead>\n",
       "  <tbody>\n",
       "    <tr>\n",
       "      <th>0</th>\n",
       "      <td>Bredasdorp</td>\n",
       "      <td>-34.53</td>\n",
       "      <td>20.04</td>\n",
       "      <td>42.8</td>\n",
       "      <td>87</td>\n",
       "      <td>15</td>\n",
       "      <td>3.36</td>\n",
       "      <td>ZA</td>\n",
       "      <td>1595809364</td>\n",
       "    </tr>\n",
       "    <tr>\n",
       "      <th>1</th>\n",
       "      <td>Norman Wells</td>\n",
       "      <td>65.28</td>\n",
       "      <td>-126.83</td>\n",
       "      <td>71.6</td>\n",
       "      <td>46</td>\n",
       "      <td>75</td>\n",
       "      <td>19.46</td>\n",
       "      <td>CA</td>\n",
       "      <td>1595809365</td>\n",
       "    </tr>\n",
       "    <tr>\n",
       "      <th>2</th>\n",
       "      <td>Moen</td>\n",
       "      <td>69.13</td>\n",
       "      <td>18.61</td>\n",
       "      <td>46.4</td>\n",
       "      <td>93</td>\n",
       "      <td>8</td>\n",
       "      <td>19.46</td>\n",
       "      <td>NO</td>\n",
       "      <td>1595809348</td>\n",
       "    </tr>\n",
       "    <tr>\n",
       "      <th>3</th>\n",
       "      <td>Saint Simons</td>\n",
       "      <td>31.14</td>\n",
       "      <td>-81.39</td>\n",
       "      <td>86.0</td>\n",
       "      <td>74</td>\n",
       "      <td>20</td>\n",
       "      <td>5.82</td>\n",
       "      <td>US</td>\n",
       "      <td>1595809366</td>\n",
       "    </tr>\n",
       "    <tr>\n",
       "      <th>4</th>\n",
       "      <td>Coquimbo</td>\n",
       "      <td>-29.95</td>\n",
       "      <td>-71.34</td>\n",
       "      <td>53.6</td>\n",
       "      <td>81</td>\n",
       "      <td>64</td>\n",
       "      <td>2.24</td>\n",
       "      <td>CL</td>\n",
       "      <td>1595809366</td>\n",
       "    </tr>\n",
       "  </tbody>\n",
       "</table>\n",
       "</div>"
      ],
      "text/plain": [
       "           City    Lat     Lng  Max Temp  Humidity  Cloudiness  Wind Speed  \\\n",
       "0    Bredasdorp -34.53   20.04      42.8        87          15        3.36   \n",
       "1  Norman Wells  65.28 -126.83      71.6        46          75       19.46   \n",
       "2          Moen  69.13   18.61      46.4        93           8       19.46   \n",
       "3  Saint Simons  31.14  -81.39      86.0        74          20        5.82   \n",
       "4      Coquimbo -29.95  -71.34      53.6        81          64        2.24   \n",
       "\n",
       "  Country        Date  \n",
       "0      ZA  1595809364  \n",
       "1      CA  1595809365  \n",
       "2      NO  1595809348  \n",
       "3      US  1595809366  \n",
       "4      CL  1595809366  "
      ]
     },
     "execution_count": 7,
     "metadata": {},
     "output_type": "execute_result"
    }
   ],
   "source": [
    "city_weather.head(5)"
   ]
  },
  {
   "cell_type": "code",
   "execution_count": 8,
   "metadata": {},
   "outputs": [],
   "source": [
    "city_weather.to_csv(\"../output_data/cities_ARD.csv\")"
   ]
  },
  {
   "cell_type": "markdown",
   "metadata": {},
   "source": [
    "## Inspect the data and remove the cities where the humidity > 100%.\n",
    "----\n",
    "Skip this step if there are no cities that have humidity > 100%. "
   ]
  },
  {
   "cell_type": "code",
   "execution_count": 9,
   "metadata": {},
   "outputs": [
    {
     "data": {
      "text/html": [
       "<div>\n",
       "<style scoped>\n",
       "    .dataframe tbody tr th:only-of-type {\n",
       "        vertical-align: middle;\n",
       "    }\n",
       "\n",
       "    .dataframe tbody tr th {\n",
       "        vertical-align: top;\n",
       "    }\n",
       "\n",
       "    .dataframe thead th {\n",
       "        text-align: right;\n",
       "    }\n",
       "</style>\n",
       "<table border=\"1\" class=\"dataframe\">\n",
       "  <thead>\n",
       "    <tr style=\"text-align: right;\">\n",
       "      <th></th>\n",
       "      <th>Lat</th>\n",
       "      <th>Lng</th>\n",
       "      <th>Max Temp</th>\n",
       "      <th>Humidity</th>\n",
       "      <th>Cloudiness</th>\n",
       "      <th>Wind Speed</th>\n",
       "      <th>Date</th>\n",
       "    </tr>\n",
       "  </thead>\n",
       "  <tbody>\n",
       "    <tr>\n",
       "      <th>count</th>\n",
       "      <td>583.000000</td>\n",
       "      <td>583.000000</td>\n",
       "      <td>583.000000</td>\n",
       "      <td>583.000000</td>\n",
       "      <td>583.000000</td>\n",
       "      <td>583.000000</td>\n",
       "      <td>5.830000e+02</td>\n",
       "    </tr>\n",
       "    <tr>\n",
       "      <th>mean</th>\n",
       "      <td>20.600892</td>\n",
       "      <td>19.529949</td>\n",
       "      <td>69.698765</td>\n",
       "      <td>71.886792</td>\n",
       "      <td>48.277873</td>\n",
       "      <td>7.697341</td>\n",
       "      <td>1.595809e+09</td>\n",
       "    </tr>\n",
       "    <tr>\n",
       "      <th>std</th>\n",
       "      <td>32.851969</td>\n",
       "      <td>90.339910</td>\n",
       "      <td>14.080593</td>\n",
       "      <td>19.783299</td>\n",
       "      <td>37.133940</td>\n",
       "      <td>5.251938</td>\n",
       "      <td>7.912402e+01</td>\n",
       "    </tr>\n",
       "    <tr>\n",
       "      <th>min</th>\n",
       "      <td>-54.800000</td>\n",
       "      <td>-179.170000</td>\n",
       "      <td>30.200000</td>\n",
       "      <td>8.000000</td>\n",
       "      <td>0.000000</td>\n",
       "      <td>0.130000</td>\n",
       "      <td>1.595809e+09</td>\n",
       "    </tr>\n",
       "    <tr>\n",
       "      <th>25%</th>\n",
       "      <td>-4.380000</td>\n",
       "      <td>-59.325000</td>\n",
       "      <td>59.030000</td>\n",
       "      <td>61.500000</td>\n",
       "      <td>8.000000</td>\n",
       "      <td>3.380000</td>\n",
       "      <td>1.595809e+09</td>\n",
       "    </tr>\n",
       "    <tr>\n",
       "      <th>50%</th>\n",
       "      <td>23.480000</td>\n",
       "      <td>23.600000</td>\n",
       "      <td>71.670000</td>\n",
       "      <td>76.000000</td>\n",
       "      <td>49.000000</td>\n",
       "      <td>6.580000</td>\n",
       "      <td>1.595809e+09</td>\n",
       "    </tr>\n",
       "    <tr>\n",
       "      <th>75%</th>\n",
       "      <td>47.570000</td>\n",
       "      <td>105.555000</td>\n",
       "      <td>80.600000</td>\n",
       "      <td>87.000000</td>\n",
       "      <td>83.000000</td>\n",
       "      <td>10.480000</td>\n",
       "      <td>1.595809e+09</td>\n",
       "    </tr>\n",
       "    <tr>\n",
       "      <th>max</th>\n",
       "      <td>78.220000</td>\n",
       "      <td>179.320000</td>\n",
       "      <td>105.800000</td>\n",
       "      <td>100.000000</td>\n",
       "      <td>100.000000</td>\n",
       "      <td>28.860000</td>\n",
       "      <td>1.595810e+09</td>\n",
       "    </tr>\n",
       "  </tbody>\n",
       "</table>\n",
       "</div>"
      ],
      "text/plain": [
       "              Lat         Lng    Max Temp    Humidity  Cloudiness  Wind Speed  \\\n",
       "count  583.000000  583.000000  583.000000  583.000000  583.000000  583.000000   \n",
       "mean    20.600892   19.529949   69.698765   71.886792   48.277873    7.697341   \n",
       "std     32.851969   90.339910   14.080593   19.783299   37.133940    5.251938   \n",
       "min    -54.800000 -179.170000   30.200000    8.000000    0.000000    0.130000   \n",
       "25%     -4.380000  -59.325000   59.030000   61.500000    8.000000    3.380000   \n",
       "50%     23.480000   23.600000   71.670000   76.000000   49.000000    6.580000   \n",
       "75%     47.570000  105.555000   80.600000   87.000000   83.000000   10.480000   \n",
       "max     78.220000  179.320000  105.800000  100.000000  100.000000   28.860000   \n",
       "\n",
       "               Date  \n",
       "count  5.830000e+02  \n",
       "mean   1.595809e+09  \n",
       "std    7.912402e+01  \n",
       "min    1.595809e+09  \n",
       "25%    1.595809e+09  \n",
       "50%    1.595809e+09  \n",
       "75%    1.595809e+09  \n",
       "max    1.595810e+09  "
      ]
     },
     "execution_count": 9,
     "metadata": {},
     "output_type": "execute_result"
    }
   ],
   "source": [
    "city_weather.describe()"
   ]
  },
  {
   "cell_type": "code",
   "execution_count": null,
   "metadata": {},
   "outputs": [],
   "source": [
    "#  Get the indices of cities that have humidity over 100%.\n",
    "# skipping step as none of the cities have humidity over 100%"
   ]
  },
  {
   "cell_type": "code",
   "execution_count": null,
   "metadata": {},
   "outputs": [],
   "source": [
    "# Make a new DataFrame equal to the city data to drop all humidity outliers by index.\n",
    "# Passing \"inplace=False\" will make a copy of the city_data DataFrame, which we call \"clean_city_data\".\n"
   ]
  },
  {
   "cell_type": "code",
   "execution_count": null,
   "metadata": {},
   "outputs": [],
   "source": [
    "# Extract relevant fields from the data frame\n",
    "# Export the City_Data into a csv\n",
    "# skipping step as none of the cities have humidity over 100%"
   ]
  },
  {
   "cell_type": "markdown",
   "metadata": {},
   "source": [
    "## Plotting the Data\n",
    "* Use proper labeling of the plots using plot titles (including date of analysis) and axes labels.\n",
    "* Save the plotted figures as .pngs."
   ]
  },
  {
   "cell_type": "markdown",
   "metadata": {},
   "source": [
    "## Latitude vs. Temperature Plot"
   ]
  },
  {
   "cell_type": "code",
   "execution_count": 10,
   "metadata": {
    "scrolled": true
   },
   "outputs": [
    {
     "data": {
      "text/plain": [
       "Text(0, 0.5, 'Max Temperature (F)')"
      ]
     },
     "execution_count": 10,
     "metadata": {},
     "output_type": "execute_result"
    },
    {
     "data": {
      "image/png": "[encoded data removed]",
      "text/plain": [
       "<Figure size 432x288 with 1 Axes>"
      ]
     },
     "metadata": {
      "needs_background": "light"
     },
     "output_type": "display_data"
    }
   ],
   "source": [
    "x_axis = city_weather[\"Lat\"]\n",
    "y_axis = city_weather[\"Max Temp\"]\n",
    "\n",
    "plt.scatter(x_axis, y_axis, marker=\"o\", facecolors=\"blue\", edgecolors=\"black\")\n",
    "plt.title(\"City Latitude vs. Max Temperature (\" + str(city_weather[\"Date\"][0]) + \")\")\n",
    "plt.xlabel(\"Latitude\")\n",
    "plt.ylabel(\"Max Temperature (F)\")"
   ]
  },
  {
   "cell_type": "markdown",
   "metadata": {},
   "source": [
    "## Latitude vs. Humidity Plot"
   ]
  },
  {
   "cell_type": "code",
   "execution_count": 11,
   "metadata": {},
   "outputs": [
    {
     "data": {
      "text/plain": [
       "Text(0, 0.5, 'Humidity (%)')"
      ]
     },
     "execution_count": 11,
     "metadata": {},
     "output_type": "execute_result"
    },
    {
     "data": {
      "image/png": "[encoded data removed]",
      "text/plain": [
       "<Figure size 432x288 with 1 Axes>"
      ]
     },
     "metadata": {
      "needs_background": "light"
     },
     "output_type": "display_data"
    }
   ],
   "source": [
    "x_axis = city_weather[\"Lat\"]\n",
    "y_axis = city_weather[\"Humidity\"]\n",
    "\n",
    "plt.scatter(x_axis, y_axis, marker=\"o\", facecolors=\"blue\", edgecolors=\"black\")\n",
    "plt.title(\"City Latitude vs. Humidity (\" + str(city_weather[\"Date\"][0]) + \")\")\n",
    "plt.xlabel(\"Latitude\")\n",
    "plt.ylabel(\"Humidity (%)\")"
   ]
  },
  {
   "cell_type": "markdown",
   "metadata": {},
   "source": [
    "## Latitude vs. Cloudiness Plot"
   ]
  },
  {
   "cell_type": "code",
   "execution_count": 12,
   "metadata": {},
   "outputs": [
    {
     "data": {
      "text/plain": [
       "Text(0, 0.5, 'Cloudiness (%)')"
      ]
     },
     "execution_count": 12,
     "metadata": {},
     "output_type": "execute_result"
    },
    {
     "data": {
      "image/png": "[encoded data removed]",
      "text/plain": [
       "<Figure size 432x288 with 1 Axes>"
      ]
     },
     "metadata": {
      "needs_background": "light"
     },
     "output_type": "display_data"
    }
   ],
   "source": [
    "x_axis = city_weather[\"Lat\"]\n",
    "y_axis = city_weather[\"Cloudiness\"]\n",
    "\n",
    "plt.scatter(x_axis, y_axis, marker=\"o\", facecolors=\"blue\", edgecolors=\"black\")\n",
    "plt.title(\"City Latitude vs. Cloudiness (\" + str(city_weather[\"Date\"][0]) + \")\")\n",
    "plt.xlabel(\"Latitude\")\n",
    "plt.ylabel(\"Cloudiness (%)\")"
   ]
  },
  {
   "cell_type": "markdown",
   "metadata": {},
   "source": [
    "## Latitude vs. Wind Speed Plot"
   ]
  },
  {
   "cell_type": "code",
   "execution_count": 13,
   "metadata": {},
   "outputs": [
    {
     "data": {
      "text/plain": [
       "Text(0, 0.5, 'Wind Speed (mph)')"
      ]
     },
     "execution_count": 13,
     "metadata": {},
     "output_type": "execute_result"
    },
    {
     "data": {
      "image/png": "[encoded data removed]",
      "text/plain": [
       "<Figure size 432x288 with 1 Axes>"
      ]
     },
     "metadata": {
      "needs_background": "light"
     },
     "output_type": "display_data"
    }
   ],
   "source": [
    "x_axis = city_weather[\"Lat\"]\n",
    "y_axis = city_weather[\"Wind Speed\"]\n",
    "\n",
    "plt.scatter(x_axis, y_axis, marker=\"o\", facecolors=\"blue\", edgecolors=\"black\")\n",
    "plt.title(\"City Latitude vs. Wind Speed (\" + str(city_weather[\"Date\"][0]) + \")\")\n",
    "plt.xlabel(\"Latitude\")\n",
    "plt.ylabel(\"Wind Speed (mph)\")"
   ]
  },
  {
   "cell_type": "markdown",
   "metadata": {},
   "source": [
    "## Linear Regression"
   ]
  },
  {
   "cell_type": "code",
   "execution_count": 14,
   "metadata": {},
   "outputs": [],
   "source": [
    "# OPTIONAL: Create a function to create Linear Regression plots"
   ]
  },
  {
   "cell_type": "code",
   "execution_count": 15,
   "metadata": {},
   "outputs": [],
   "source": [
    "# Create Northern and Southern Hemisphere DataFrames\n",
    "northern_df = city_weather[city_weather.Lat > 0]\n",
    "southern_df = city_weather[city_weather.Lat <= 0]\n"
   ]
  },
  {
   "cell_type": "markdown",
   "metadata": {},
   "source": [
    "####  Northern Hemisphere - Max Temp vs. Latitude Linear Regression"
   ]
  },
  {
   "cell_type": "code",
   "execution_count": 16,
   "metadata": {},
   "outputs": [
    {
     "name": "stdout",
     "output_type": "stream",
     "text": [
      "The r-squared is: 0.43951268841647523\n"
     ]
    },
    {
     "data": {
      "image/png": "[encoded data removed]",
      "text/plain": [
       "<Figure size 432x288 with 1 Axes>"
      ]
     },
     "metadata": {
      "needs_background": "light"
     },
     "output_type": "display_data"
    }
   ],
   "source": [
    "x_values = northern_df[\"Lat\"]\n",
    "y_values = northern_df[\"Max Temp\"]\n",
    "\n",
    "(slope, intercept, rvalue, pvalue, stderr) = linregress(x_values, y_values)\n",
    "regress_values = x_values * slope + intercept\n",
    "line_eq = \"y = \" + str(round(slope,2)) + \"x + \" + str(round(intercept,2))\n",
    "plt.scatter(x_values,y_values)\n",
    "plt.plot(x_values,regress_values,\"r-\")\n",
    "plt.annotate(line_eq,(6,10),fontsize=15,color=\"red\")\n",
    "plt.xlabel(\"Latitude\")\n",
    "plt.ylabel(\"Max Temperature (F)\")\n",
    "print(f\"The r-squared is: {rvalue**2}\")\n",
    "plt.show()\n"
   ]
  },
  {
   "cell_type": "markdown",
   "metadata": {},
   "source": [
    "####  Southern Hemisphere - Max Temp vs. Latitude Linear Regression"
   ]
  },
  {
   "cell_type": "code",
   "execution_count": 17,
   "metadata": {},
   "outputs": [
    {
     "name": "stdout",
     "output_type": "stream",
     "text": [
      "The r-squared is: 0.6930763225693135\n"
     ]
    },
    {
     "data": {
      "image/png": "[encoded data removed]",
      "text/plain": [
       "<Figure size 432x288 with 1 Axes>"
      ]
     },
     "metadata": {
      "needs_background": "light"
     },
     "output_type": "display_data"
    }
   ],
   "source": [
    "x_values = southern_df[\"Lat\"]\n",
    "y_values = southern_df[\"Max Temp\"]\n",
    "\n",
    "(slope, intercept, rvalue, pvalue, stderr) = linregress(x_values, y_values)\n",
    "regress_values = x_values * slope + intercept\n",
    "line_eq = \"y = \" + str(round(slope,2)) + \"x + \" + str(round(intercept,2))\n",
    "plt.scatter(x_values,y_values)\n",
    "plt.plot(x_values,regress_values,\"r-\")\n",
    "plt.annotate(line_eq,(6,10),fontsize=15,color=\"red\")\n",
    "plt.xlabel(\"Latitude\")\n",
    "plt.ylabel(\"Max Temperature (F)\")\n",
    "print(f\"The r-squared is: {rvalue**2}\")\n",
    "plt.show()"
   ]
  },
  {
   "cell_type": "markdown",
   "metadata": {},
   "source": [
    "####  Northern Hemisphere - Humidity (%) vs. Latitude Linear Regression"
   ]
  },
  {
   "cell_type": "code",
   "execution_count": 18,
   "metadata": {},
   "outputs": [
    {
     "name": "stdout",
     "output_type": "stream",
     "text": [
      "The r-squared is: 0.012172676803439142\n"
     ]
    },
    {
     "data": {
      "image/png": "[encoded data removed]",
      "text/plain": [
       "<Figure size 432x288 with 1 Axes>"
      ]
     },
     "metadata": {
      "needs_background": "light"
     },
     "output_type": "display_data"
    }
   ],
   "source": [
    "x_values = northern_df[\"Lat\"]\n",
    "y_values = northern_df[\"Humidity\"]\n",
    "\n",
    "(slope, intercept, rvalue, pvalue, stderr) = linregress(x_values, y_values)\n",
    "regress_values = x_values * slope + intercept\n",
    "line_eq = \"y = \" + str(round(slope,2)) + \"x + \" + str(round(intercept,2))\n",
    "plt.scatter(x_values,y_values)\n",
    "plt.plot(x_values,regress_values,\"r-\")\n",
    "plt.annotate(line_eq,(6,10),fontsize=15,color=\"red\")\n",
    "plt.xlabel(\"Latitude\")\n",
    "plt.ylabel(\"Humidity (%)\")\n",
    "print(f\"The r-squared is: {rvalue**2}\")\n",
    "plt.show()"
   ]
  },
  {
   "cell_type": "markdown",
   "metadata": {},
   "source": [
    "####  Southern Hemisphere - Humidity (%) vs. Latitude Linear Regression"
   ]
  },
  {
   "cell_type": "code",
   "execution_count": 19,
   "metadata": {},
   "outputs": [
    {
     "name": "stdout",
     "output_type": "stream",
     "text": [
      "The r-squared is: 0.00012735289879661492\n"
     ]
    },
    {
     "data": {
      "image/png": "[encoded data removed]",
      "text/plain": [
       "<Figure size 432x288 with 1 Axes>"
      ]
     },
     "metadata": {
      "needs_background": "light"
     },
     "output_type": "display_data"
    }
   ],
   "source": [
    "x_values = southern_df[\"Lat\"]\n",
    "y_values = southern_df[\"Humidity\"]\n",
    "\n",
    "(slope, intercept, rvalue, pvalue, stderr) = linregress(x_values, y_values)\n",
    "regress_values = x_values * slope + intercept\n",
    "line_eq = \"y = \" + str(round(slope,2)) + \"x + \" + str(round(intercept,2))\n",
    "plt.scatter(x_values,y_values)\n",
    "plt.plot(x_values,regress_values,\"r-\")\n",
    "plt.annotate(line_eq,(6,10),fontsize=15,color=\"red\")\n",
    "plt.xlabel(\"Latitude\")\n",
    "plt.ylabel(\"Humidity (%)\")\n",
    "print(f\"The r-squared is: {rvalue**2}\")\n",
    "plt.show()"
   ]
  },
  {
   "cell_type": "markdown",
   "metadata": {},
   "source": [
    "####  Northern Hemisphere - Cloudiness (%) vs. Latitude Linear Regression"
   ]
  },
  {
   "cell_type": "code",
   "execution_count": 20,
   "metadata": {},
   "outputs": [
    {
     "name": "stdout",
     "output_type": "stream",
     "text": [
      "The r-squared is: 0.0007154546244421112\n"
     ]
    },
    {
     "data": {
      "image/png": "[encoded data removed]",
      "text/plain": [
       "<Figure size 432x288 with 1 Axes>"
      ]
     },
     "metadata": {
      "needs_background": "light"
     },
     "output_type": "display_data"
    }
   ],
   "source": [
    "x_values = northern_df[\"Lat\"]\n",
    "y_values = northern_df[\"Cloudiness\"]\n",
    "\n",
    "(slope, intercept, rvalue, pvalue, stderr) = linregress(x_values, y_values)\n",
    "regress_values = x_values * slope + intercept\n",
    "line_eq = \"y = \" + str(round(slope,2)) + \"x + \" + str(round(intercept,2))\n",
    "plt.scatter(x_values,y_values)\n",
    "plt.plot(x_values,regress_values,\"r-\")\n",
    "plt.annotate(line_eq,(6,10),fontsize=15,color=\"red\")\n",
    "plt.xlabel(\"Latitude\")\n",
    "plt.ylabel(\"Cloudiness (%)\")\n",
    "print(f\"The r-squared is: {rvalue**2}\")\n",
    "plt.show()"
   ]
  },
  {
   "cell_type": "markdown",
   "metadata": {},
   "source": [
    "####  Southern Hemisphere - Cloudiness (%) vs. Latitude Linear Regression"
   ]
  },
  {
   "cell_type": "code",
   "execution_count": 21,
   "metadata": {},
   "outputs": [
    {
     "name": "stdout",
     "output_type": "stream",
     "text": [
      "The r-squared is: 0.00011738925321919329\n"
     ]
    },
    {
     "data": {
      "image/png": "[encoded data removed]",
      "text/plain": [
       "<Figure size 432x288 with 1 Axes>"
      ]
     },
     "metadata": {
      "needs_background": "light"
     },
     "output_type": "display_data"
    }
   ],
   "source": [
    "x_values = southern_df[\"Lat\"]\n",
    "y_values = southern_df[\"Cloudiness\"]\n",
    "\n",
    "(slope, intercept, rvalue, pvalue, stderr) = linregress(x_values, y_values)\n",
    "regress_values = x_values * slope + intercept\n",
    "line_eq = \"y = \" + str(round(slope,2)) + \"x + \" + str(round(intercept,2))\n",
    "plt.scatter(x_values,y_values)\n",
    "plt.plot(x_values,regress_values,\"r-\")\n",
    "plt.annotate(line_eq,(6,10),fontsize=15,color=\"red\")\n",
    "plt.xlabel(\"Latitude\")\n",
    "plt.ylabel(\"Cloudiness (%)\")\n",
    "print(f\"The r-squared is: {rvalue**2}\")\n",
    "plt.show()"
   ]
  },
  {
   "cell_type": "markdown",
   "metadata": {},
   "source": [
    "####  Northern Hemisphere - Wind Speed (mph) vs. Latitude Linear Regression"
   ]
  },
  {
   "cell_type": "code",
   "execution_count": 22,
   "metadata": {},
   "outputs": [
    {
     "name": "stdout",
     "output_type": "stream",
     "text": [
      "The r-squared is: 0.012888641079212662\n"
     ]
    },
    {
     "data": {
      "image/png": "[encoded data removed]",
      "text/plain": [
       "<Figure size 432x288 with 1 Axes>"
      ]
     },
     "metadata": {
      "needs_background": "light"
     },
     "output_type": "display_data"
    }
   ],
   "source": [
    "x_values = northern_df[\"Lat\"]\n",
    "y_values = northern_df[\"Wind Speed\"]\n",
    "\n",
    "(slope, intercept, rvalue, pvalue, stderr) = linregress(x_values, y_values)\n",
    "regress_values = x_values * slope + intercept\n",
    "line_eq = \"y = \" + str(round(slope,2)) + \"x + \" + str(round(intercept,2))\n",
    "plt.scatter(x_values,y_values)\n",
    "plt.plot(x_values,regress_values,\"r-\")\n",
    "plt.annotate(line_eq,(6,10),fontsize=15,color=\"red\")\n",
    "plt.xlabel(\"Latitude\")\n",
    "plt.ylabel(\"Wind Speed (mph)\")\n",
    "print(f\"The r-squared is: {rvalue**2}\")\n",
    "plt.show()"
   ]
  },
  {
   "cell_type": "markdown",
   "metadata": {},
   "source": [
    "####  Southern Hemisphere - Wind Speed (mph) vs. Latitude Linear Regression"
   ]
  },
  {
   "cell_type": "code",
   "execution_count": 23,
   "metadata": {},
   "outputs": [
    {
     "name": "stdout",
     "output_type": "stream",
     "text": [
      "The r-squared is: 0.0018662420791040434\n"
     ]
    },
    {
     "data": {
      "image/png": "[encoded data removed]",
      "text/plain": [
       "<Figure size 432x288 with 1 Axes>"
      ]
     },
     "metadata": {
      "needs_background": "light"
     },
     "output_type": "display_data"
    }
   ],
   "source": [
    "x_values = southern_df[\"Lat\"]\n",
    "y_values = southern_df[\"Wind Speed\"]\n",
    "\n",
    "(slope, intercept, rvalue, pvalue, stderr) = linregress(x_values, y_values)\n",
    "regress_values = x_values * slope + intercept\n",
    "line_eq = \"y = \" + str(round(slope,2)) + \"x + \" + str(round(intercept,2))\n",
    "plt.scatter(x_values,y_values)\n",
    "plt.plot(x_values,regress_values,\"r-\")\n",
    "plt.annotate(line_eq,(6,10),fontsize=15,color=\"red\")\n",
    "plt.xlabel(\"Latitude\")\n",
    "plt.ylabel(\"Wind Speed (mph)\")\n",
    "print(f\"The r-squared is: {rvalue**2}\")\n",
    "plt.show()"
   ]
  },
  {
   "cell_type": "code",
   "execution_count": null,
   "metadata": {},
   "outputs": [],
   "source": [
    "#----------------------------------------------------\n",
    "#----------THREE OBSERVABLE TRENDS-------------------\n",
    "#----------------------------------------------------\n",
    "#1. The first and most obvious is the direct correlation to higher temperatures as latitude goes to 0\n",
    "#2. Cloudiness seems to have a trend with most data points collecting every 20% increase. There are more data points at (20, 40, 60, 80, etc)\n",
    "#3. Wind speeds seem to lie within the 0-20 MPH range for my data set. There are higher wind speeds but the vast majority are under 20 MPH."
   ]
  }
 ],
 "metadata": {
  "anaconda-cloud": {},
  "kernel_info": {
   "name": "python3"
  },
  "kernelspec": {
   "display_name": "Python [conda env:PythonData] *",
   "language": "python",
   "name": "conda-env-PythonData-py"
  },
  "language_info": {
   "codemirror_mode": {
    "name": "ipython",
    "version": 3
   },
   "file_extension": ".py",
   "mimetype": "text/x-python",
   "name": "python",
   "nbconvert_exporter": "python",
   "pygments_lexer": "ipython3",
   "version": "3.6.10"
  },
  "latex_envs": {
   "LaTeX_envs_menu_present": true,
   "autoclose": false,
   "autocomplete": true,
   "bibliofile": "biblio.bib",
   "cite_by": "apalike",
   "current_citInitial": 1,
   "eqLabelWithNumbers": true,
   "eqNumInitial": 1,
   "hotkeys": {
    "equation": "Ctrl-E",
    "itemize": "Ctrl-I"
   },
   "labels_anchors": false,
   "latex_user_defs": false,
   "report_style_numbering": false,
   "user_envs_cfg": false
  },
  "nteract": {
   "version": "0.12.3"
  }
 },
 "nbformat": 4,
 "nbformat_minor": 2
}
