{
 "cells": [
  {
   "cell_type": "markdown",
   "metadata": {},
   "source": [
    "# WeatherPy\n",
    "----\n",
    "\n",
    "#### Note\n",
    "* Instructions have been included for each segment. You do not have to follow them exactly, but they are included to help you think through the steps."
   ]
  },
  {
   "cell_type": "code",
   "execution_count": 80,
   "metadata": {
    "scrolled": true
   },
   "outputs": [],
   "source": [
    "# Dependencies and Setup\n",
    "import matplotlib.pyplot as plt\n",
    "import pandas as pd\n",
    "import numpy as np\n",
    "import requests\n",
    "import time\n",
    "from scipy.stats import linregress\n",
    "from sklearn import datasets\n",
    "\n",
    "# Import API key\n",
    "from api_keys import weather_api_key\n",
    "\n",
    "# Incorporated citipy to determine city based on latitude and longitude\n",
    "from citipy import citipy\n",
    "\n",
    "# Output File (CSV)\n",
    "output_data_file = \"output_data/cities.csv\"\n",
    "\n",
    "# Range of latitudes and longitudes\n",
    "lat_range = (-90, 90)\n",
    "lng_range = (-180, 180)"
   ]
  },
  {
   "cell_type": "markdown",
   "metadata": {},
   "source": [
    "## Generate Cities List"
   ]
  },
  {
   "cell_type": "code",
   "execution_count": 3,
   "metadata": {
    "scrolled": false
   },
   "outputs": [
    {
     "name": "stdout",
     "output_type": "stream",
     "text": [
      "584 belushya guba kefamenanu\n"
     ]
    }
   ],
   "source": [
    "# List for holding lat_lngs and cities\n",
    "lat_lngs = []\n",
    "cities = []\n",
    "\n",
    "# Create a set of random lat and lng combinations\n",
    "lats = np.random.uniform(lat_range[0], lat_range[1], size=1500)\n",
    "lngs = np.random.uniform(lng_range[0], lng_range[1], size=1500)\n",
    "lat_lngs = zip(lats, lngs)\n",
    "\n",
    "# Identify nearest city for each lat, lng combination\n",
    "for lat_lng in lat_lngs:\n",
    "    city = citipy.nearest_city(lat_lng[0], lat_lng[1]).city_name\n",
    "    \n",
    "    # If the city is unique, then add it to a our cities list\n",
    "    if city not in cities:\n",
    "        cities.append(city)\n",
    "\n",
    "# Print the city count to confirm sufficient count\n",
    "print(str(len(cities)) + \" \" + cities[0] + \" \" + cities[len(cities)-1])"
   ]
  },
  {
   "cell_type": "code",
   "execution_count": 4,
   "metadata": {},
   "outputs": [],
   "source": [
    "# Save config information.\n",
    "url = \"http://api.openweathermap.org/data/2.5/weather?\"\n",
    "units = \"Imperial\"\n",
    "\n",
    "# Build partial query URL\n",
    "query_url = f\"{url}appid={weather_api_key}&units={units}&q=\""
   ]
  },
  {
   "cell_type": "markdown",
   "metadata": {},
   "source": [
    "### Perform API Calls\n",
    "* Perform a weather check on each city using a series of successive API calls.\n",
    "* Include a print log of each city as it'sbeing processed (with the city number and city name).\n"
   ]
  },
  {
   "cell_type": "code",
   "execution_count": 8,
   "metadata": {},
   "outputs": [
    {
     "data": {
      "text/plain": [
       "{'coord': {'lon': -68.3, 'lat': -54.8},\n",
       " 'weather': [{'id': 802,\n",
       "   'main': 'Clouds',\n",
       "   'description': 'scattered clouds',\n",
       "   'icon': '03d'}],\n",
       " 'base': 'stations',\n",
       " 'main': {'temp': 35.6,\n",
       "  'feels_like': 19.65,\n",
       "  'temp_min': 35.6,\n",
       "  'temp_max': 35.6,\n",
       "  'pressure': 995,\n",
       "  'humidity': 86},\n",
       " 'visibility': 10000,\n",
       " 'wind': {'speed': 21.92, 'deg': 230},\n",
       " 'clouds': {'all': 40},\n",
       " 'dt': 1595785539,\n",
       " 'sys': {'type': 1,\n",
       "  'id': 8303,\n",
       "  'country': 'AR',\n",
       "  'sunrise': 1595766696,\n",
       "  'sunset': 1595796454},\n",
       " 'timezone': -10800,\n",
       " 'id': 3833367,\n",
       " 'name': 'Ushuaia',\n",
       " 'cod': 200}"
      ]
     },
     "execution_count": 8,
     "metadata": {},
     "output_type": "execute_result"
    }
   ],
   "source": [
    "response = requests.get(query_url + cities[3]).json()\n",
    "response"
   ]
  },
  {
   "cell_type": "code",
   "execution_count": 6,
   "metadata": {},
   "outputs": [
    {
     "name": "stdout",
     "output_type": "stream",
     "text": [
      "Processing Record 1 | belushya guba not found\n",
      "Processing Record 2 | castro\n",
      "Processing Record 3 | port hedland\n",
      "Processing Record 4 | ushuaia\n",
      "Processing Record 5 | susanville\n",
      "Processing Record 6 | okhotsk\n",
      "Processing Record 7 | beli potok\n",
      "Processing Record 8 | tuktoyaktuk\n",
      "Processing Record 9 | east london\n",
      "Processing Record 10 | shenjiamen\n",
      "Processing Record 11 | busselton\n",
      "Processing Record 12 | jacqueville\n",
      "Processing Record 13 | rikitea\n",
      "Processing Record 14 | butaritari\n",
      "Processing Record 15 | chihuahua\n",
      "Processing Record 16 | nishihara\n",
      "Processing Record 17 | hatillo\n",
      "Processing Record 18 | varaklani not found\n",
      "Processing Record 19 | kaduy\n",
      "Processing Record 20 | egvekinot\n",
      "Processing Record 21 | punta arenas\n",
      "Processing Record 22 | esperance\n",
      "Processing Record 23 | geraldton\n",
      "Processing Record 24 | montepuez\n",
      "Processing Record 25 | ribeira grande\n",
      "Processing Record 26 | sungairaya\n",
      "Processing Record 27 | yellowknife\n",
      "Processing Record 28 | deputatskiy\n",
      "Processing Record 29 | tasiilaq\n",
      "Processing Record 30 | haines junction\n",
      "Processing Record 31 | gushi\n",
      "Processing Record 32 | puerto ayora\n",
      "Processing Record 33 | victoria\n",
      "Processing Record 34 | luderitz\n",
      "Processing Record 35 | qasigiannguit\n",
      "Processing Record 36 | velykyy burluk\n",
      "Processing Record 37 | hobart\n",
      "Processing Record 38 | upernavik\n",
      "Processing Record 39 | kodiak\n",
      "Processing Record 40 | albany\n",
      "Processing Record 41 | itaituba\n",
      "Processing Record 42 | jamestown\n",
      "Processing Record 43 | hithadhoo\n",
      "Processing Record 44 | attawapiskat not found\n",
      "Processing Record 45 | garden city\n",
      "Processing Record 46 | taolanaro not found\n",
      "Processing Record 47 | mataura\n",
      "Processing Record 48 | petropavlovsk-kamchatskiy\n",
      "Processing Record 49 | atuona\n",
      "Processing Record 50 | barrow\n",
      "Processing Record 51 | hermanus\n",
      "Processing Record 52 | dianopolis not found\n",
      "Processing Record 53 | ayagoz\n",
      "Processing Record 54 | kudahuvadhoo\n",
      "Processing Record 55 | kungurtug\n",
      "Processing Record 56 | dali\n",
      "Processing Record 57 | toliary not found\n",
      "Processing Record 58 | klaksvik\n",
      "Processing Record 59 | makung not found\n",
      "Processing Record 60 | ivanteyevka\n",
      "Processing Record 61 | avarua\n",
      "Processing Record 62 | ancud\n",
      "Processing Record 63 | huarmey\n",
      "Processing Record 64 | necochea\n",
      "Processing Record 65 | isa khel\n",
      "Processing Record 66 | marawi\n",
      "Processing Record 67 | denpasar\n",
      "Processing Record 68 | qaanaaq\n",
      "Processing Record 69 | gimli\n",
      "Processing Record 70 | verkhnyaya inta\n",
      "Processing Record 71 | somerset west\n",
      "Processing Record 72 | zhaoqing\n",
      "Processing Record 73 | saskylakh\n",
      "Processing Record 74 | tuatapere\n",
      "Processing Record 75 | muncar\n",
      "Processing Record 76 | airai\n",
      "Processing Record 77 | byron bay\n",
      "Processing Record 78 | lebu\n",
      "Processing Record 79 | mahebourg\n",
      "Processing Record 80 | georgetown\n",
      "Processing Record 81 | amderma not found\n",
      "Processing Record 82 | san carlos de bariloche\n",
      "Processing Record 83 | yirol not found\n",
      "Processing Record 84 | kulhudhuffushi\n",
      "Processing Record 85 | dikson\n",
      "Processing Record 86 | mogadishu\n",
      "Processing Record 87 | port alfred\n",
      "Processing Record 88 | namatanai\n",
      "Processing Record 89 | bethel\n",
      "Processing Record 90 | illoqqortoormiut not found\n",
      "Processing Record 91 | ust-ilimsk\n",
      "Processing Record 92 | itoman\n",
      "Processing Record 93 | arraial do cabo\n",
      "Processing Record 94 | vaini\n",
      "Processing Record 95 | leningradskiy\n",
      "Processing Record 96 | makakilo city\n",
      "Processing Record 97 | kapaa\n",
      "Processing Record 98 | bathsheba\n",
      "Processing Record 99 | sao filipe\n",
      "Processing Record 100 | leh\n",
      "Processing Record 101 | khatanga\n",
      "Processing Record 102 | cabo san lucas\n",
      "Processing Record 103 | rungata not found\n",
      "Processing Record 104 | hambantota\n",
      "Processing Record 105 | lusambo\n",
      "Processing Record 106 | bredasdorp\n",
      "Processing Record 107 | moron\n",
      "Processing Record 108 | cape town\n",
      "Processing Record 109 | tahoua\n",
      "Processing Record 110 | sangueya\n",
      "Processing Record 111 | rawlins\n",
      "Processing Record 112 | nicoya\n",
      "Processing Record 113 | hofn\n",
      "Processing Record 114 | souillac\n",
      "Processing Record 115 | tumannyy not found\n",
      "Processing Record 116 | hilo\n",
      "Processing Record 117 | bengkulu\n",
      "Processing Record 118 | lolua not found\n",
      "Processing Record 119 | ternate\n",
      "Processing Record 120 | kavieng\n",
      "Processing Record 121 | narsaq\n",
      "Processing Record 122 | olafsvik\n",
      "Processing Record 123 | galveston\n",
      "Processing Record 124 | andselv not found\n",
      "Processing Record 125 | ponta do sol\n",
      "Processing Record 126 | vanimo\n",
      "Processing Record 127 | asau\n",
      "Processing Record 128 | yerofey pavlovich\n",
      "Processing Record 129 | matagami\n",
      "Processing Record 130 | altay\n",
      "Processing Record 131 | teseney\n",
      "Processing Record 132 | salto del guaira\n",
      "Processing Record 133 | kavaratti\n",
      "Processing Record 134 | valdivia\n",
      "Processing Record 135 | chapais\n",
      "Processing Record 136 | hami\n",
      "Processing Record 137 | fortuna\n",
      "Processing Record 138 | sentyabrskiy not found\n",
      "Processing Record 139 | dhamrai\n",
      "Processing Record 140 | cidreira\n",
      "Processing Record 141 | new norfolk\n",
      "Processing Record 142 | seddon\n",
      "Processing Record 143 | pevek\n",
      "Processing Record 144 | kasangulu\n",
      "Processing Record 145 | katsuura\n",
      "Processing Record 146 | lavrentiya\n",
      "Processing Record 147 | gawler\n",
      "Processing Record 148 | iqaluit\n",
      "Processing Record 149 | codrington\n",
      "Processing Record 150 | healdsburg\n",
      "Processing Record 151 | ketchikan\n",
      "Processing Record 152 | manavgat\n",
      "Processing Record 153 | saint-philippe\n",
      "Processing Record 154 | chokurdakh\n",
      "Processing Record 155 | vostok\n",
      "Processing Record 156 | carnarvon\n",
      "Processing Record 157 | alta floresta\n",
      "Processing Record 158 | neiafu\n",
      "Processing Record 159 | lasa\n",
      "Processing Record 160 | kirakira\n",
      "Processing Record 161 | beira\n",
      "Processing Record 162 | lagoa\n",
      "Processing Record 163 | general roca\n",
      "Processing Record 164 | mahanoro\n",
      "Processing Record 165 | inuvik\n",
      "Processing Record 166 | uyuni\n",
      "Processing Record 167 | bluff\n",
      "Processing Record 168 | bettiah\n",
      "Processing Record 169 | labuhan\n",
      "Processing Record 170 | cheremisinovo\n",
      "Processing Record 171 | aklavik\n",
      "Processing Record 172 | la criba\n",
      "Processing Record 173 | ambilobe\n",
      "Processing Record 174 | kloulklubed\n",
      "Processing Record 175 | vaitupu not found\n",
      "Processing Record 176 | thompson\n",
      "Processing Record 177 | abu samrah\n",
      "Processing Record 178 | nanortalik\n",
      "Processing Record 179 | dudinka\n",
      "Processing Record 180 | tahta\n",
      "Processing Record 181 | cabra\n",
      "Processing Record 182 | quesnel\n",
      "Processing Record 183 | zabinka not found\n",
      "Processing Record 184 | kambove\n",
      "Processing Record 185 | river falls\n",
      "Processing Record 186 | longlac not found\n",
      "Processing Record 187 | lata\n",
      "Processing Record 188 | marabba\n",
      "Processing Record 189 | ilulissat\n",
      "Processing Record 190 | gunjur\n",
      "Processing Record 191 | norman\n",
      "Processing Record 192 | frunze\n",
      "Processing Record 193 | mar del plata\n",
      "Processing Record 194 | veraval\n",
      "Processing Record 195 | waipawa\n",
      "Processing Record 196 | celestun\n",
      "Processing Record 197 | shushenskoye\n",
      "Processing Record 198 | qui nhon\n",
      "Processing Record 199 | mergui not found\n",
      "Processing Record 200 | flin flon\n",
      "Processing Record 201 | cherskiy\n",
      "Processing Record 202 | louisbourg not found\n",
      "Processing Record 203 | litoral del san juan not found\n",
      "Processing Record 204 | kuche not found\n",
      "Processing Record 205 | aguimes\n",
      "Processing Record 206 | vardo\n",
      "Processing Record 207 | cockburn town\n",
      "Processing Record 208 | buchanan\n",
      "Processing Record 209 | aksu\n",
      "Processing Record 210 | damara\n",
      "Processing Record 211 | vao\n",
      "Processing Record 212 | tarpon springs\n",
      "Processing Record 213 | grand river south east not found\n",
      "Processing Record 214 | barentsburg not found\n",
      "Processing Record 215 | tigil\n",
      "Processing Record 216 | navirai\n",
      "Processing Record 217 | coquimbo\n",
      "Processing Record 218 | petropavlovskaya\n",
      "Processing Record 219 | mpongwe\n",
      "Processing Record 220 | vestmannaeyjar\n",
      "Processing Record 221 | harper\n",
      "Processing Record 222 | tilichiki\n",
      "Processing Record 223 | lompoc\n",
      "Processing Record 224 | beringovskiy\n",
      "Processing Record 225 | tual\n",
      "Processing Record 226 | igurubi\n",
      "Processing Record 227 | tsihombe not found\n",
      "Processing Record 228 | bonavista\n",
      "Processing Record 229 | odweyne\n",
      "Processing Record 230 | guarapari\n",
      "Processing Record 231 | guerrero negro\n",
      "Processing Record 232 | rocha\n",
      "Processing Record 233 | estelle\n",
      "Processing Record 234 | iquitos\n",
      "Processing Record 235 | phan rang not found\n",
      "Processing Record 236 | pisco\n",
      "Processing Record 237 | yetkul\n",
      "Processing Record 238 | thio\n",
      "Processing Record 239 | bambous virieux\n",
      "Processing Record 240 | innisfail\n"
     ]
    },
    {
     "name": "stdout",
     "output_type": "stream",
     "text": [
      "Processing Record 241 | nikolskoye\n",
      "Processing Record 242 | salsk\n",
      "Processing Record 243 | sidvokodvo\n",
      "Processing Record 244 | villazon\n",
      "Processing Record 245 | burnie\n",
      "Processing Record 246 | cururupu\n",
      "Processing Record 247 | bukoba\n",
      "Processing Record 248 | tiksi\n",
      "Processing Record 249 | tikhvin\n",
      "Processing Record 250 | peniche\n",
      "Processing Record 251 | norman wells\n",
      "Processing Record 252 | fukuma\n",
      "Processing Record 253 | abbeville\n",
      "Processing Record 254 | tonj\n",
      "Processing Record 255 | hearst\n",
      "Processing Record 256 | opuwo\n",
      "Processing Record 257 | alta gracia\n",
      "Processing Record 258 | broken hill\n",
      "Processing Record 259 | san patricio\n",
      "Processing Record 260 | restrepo\n",
      "Processing Record 261 | solnechnyy\n",
      "Processing Record 262 | soledade\n",
      "Processing Record 263 | walvis bay\n",
      "Processing Record 264 | nizhneyansk not found\n",
      "Processing Record 265 | yarim\n",
      "Processing Record 266 | santa rosa\n",
      "Processing Record 267 | fukue\n",
      "Processing Record 268 | lac du bonnet\n",
      "Processing Record 269 | hobyo\n",
      "Processing Record 270 | longyearbyen\n",
      "Processing Record 271 | upata\n",
      "Processing Record 272 | mount gambier\n",
      "Processing Record 273 | nome\n",
      "Processing Record 274 | paamiut\n",
      "Processing Record 275 | nouadhibou\n",
      "Processing Record 276 | clyde river\n",
      "Processing Record 277 | srednekolymsk\n",
      "Processing Record 278 | verkhnevilyuysk\n",
      "Processing Record 279 | socoltenango\n",
      "Processing Record 280 | voloshka\n",
      "Processing Record 281 | hamilton\n",
      "Processing Record 282 | nanlong\n",
      "Processing Record 283 | tiarei\n",
      "Processing Record 284 | kommunar\n",
      "Processing Record 285 | uvinza\n",
      "Processing Record 286 | namibe\n",
      "Processing Record 287 | nenjiang\n",
      "Processing Record 288 | coihaique\n",
      "Processing Record 289 | ayaviri\n",
      "Processing Record 290 | yatou\n",
      "Processing Record 291 | wulanhaote not found\n",
      "Processing Record 292 | mys shmidta not found\n",
      "Processing Record 293 | jiayuguan\n",
      "Processing Record 294 | mahibadhoo\n",
      "Processing Record 295 | naze\n",
      "Processing Record 296 | kruisfontein\n",
      "Processing Record 297 | satis\n",
      "Processing Record 298 | kaitangata\n",
      "Processing Record 299 | alofi\n",
      "Processing Record 300 | barranca\n",
      "Processing Record 301 | kuhdasht\n",
      "Processing Record 302 | roebourne\n",
      "Processing Record 303 | faya\n",
      "Processing Record 304 | husavik\n",
      "Processing Record 305 | tsienyane not found\n",
      "Processing Record 306 | sataua not found\n",
      "Processing Record 307 | zhigansk\n",
      "Processing Record 308 | sitka\n",
      "Processing Record 309 | taranagar\n",
      "Processing Record 310 | provideniya\n",
      "Processing Record 311 | pacifica\n",
      "Processing Record 312 | barcelona\n",
      "Processing Record 313 | talnakh\n",
      "Processing Record 314 | agnibilekrou\n",
      "Processing Record 315 | vrangel\n",
      "Processing Record 316 | port hardy\n",
      "Processing Record 317 | ahipara\n",
      "Processing Record 318 | saleaula not found\n",
      "Processing Record 319 | kindu\n",
      "Processing Record 320 | tamworth\n",
      "Processing Record 321 | bur gabo not found\n",
      "Processing Record 322 | chuy\n",
      "Processing Record 323 | valparaiso\n",
      "Processing Record 324 | taupo\n",
      "Processing Record 325 | kolda\n",
      "Processing Record 326 | aksarka\n",
      "Processing Record 327 | salalah\n",
      "Processing Record 328 | gamba\n",
      "Processing Record 329 | saldanha\n",
      "Processing Record 330 | taltal\n",
      "Processing Record 331 | half moon bay\n",
      "Processing Record 332 | usinsk\n",
      "Processing Record 333 | mogochin not found\n",
      "Processing Record 334 | havre-saint-pierre\n",
      "Processing Record 335 | churapcha\n",
      "Processing Record 336 | teguldet\n",
      "Processing Record 337 | hofheim\n",
      "Processing Record 338 | tallahassee\n",
      "Processing Record 339 | torbay\n",
      "Processing Record 340 | san policarpo\n",
      "Processing Record 341 | ambovombe\n",
      "Processing Record 342 | neuquen\n",
      "Processing Record 343 | riberalta\n",
      "Processing Record 344 | nemuro\n",
      "Processing Record 345 | ashland\n",
      "Processing Record 346 | skibbereen\n",
      "Processing Record 347 | boyolangu\n",
      "Processing Record 348 | khromtau\n",
      "Processing Record 349 | annapolis\n",
      "Processing Record 350 | kathu\n",
      "Processing Record 351 | adrar\n",
      "Processing Record 352 | penzance\n",
      "Processing Record 353 | manzhouli\n",
      "Processing Record 354 | porangatu\n",
      "Processing Record 355 | saint-pierre\n",
      "Processing Record 356 | touba\n",
      "Processing Record 357 | saint george\n",
      "Processing Record 358 | mrakovo\n",
      "Processing Record 359 | seoul\n",
      "Processing Record 360 | severo-kurilsk\n",
      "Processing Record 361 | ambikapur\n",
      "Processing Record 362 | rabaul\n",
      "Processing Record 363 | barra dos coqueiros\n",
      "Processing Record 364 | mont-dore\n",
      "Processing Record 365 | okahandja\n",
      "Processing Record 366 | bagdarin\n",
      "Processing Record 367 | pionerskiy\n",
      "Processing Record 368 | los llanos de aridane\n",
      "Processing Record 369 | coahuayana\n",
      "Processing Record 370 | lovington\n",
      "Processing Record 371 | tambacounda\n",
      "Processing Record 372 | buraydah\n",
      "Processing Record 373 | barmer\n",
      "Processing Record 374 | acapulco\n",
      "Processing Record 375 | ixtapa\n",
      "Processing Record 376 | lufilufi\n",
      "Processing Record 377 | ituni not found\n",
      "Processing Record 378 | mehamn\n",
      "Processing Record 379 | kaeo\n",
      "Processing Record 380 | redlands\n",
      "Processing Record 381 | korla\n",
      "Processing Record 382 | bousso\n",
      "Processing Record 383 | tocantinopolis not found\n",
      "Processing Record 384 | oranjestad\n",
      "Processing Record 385 | bandarbeyla\n",
      "Processing Record 386 | burriana\n",
      "Processing Record 387 | plettenberg bay\n",
      "Processing Record 388 | shuyskoye\n",
      "Processing Record 389 | mitsamiouli\n",
      "Processing Record 390 | saurimo\n",
      "Processing Record 391 | northam\n",
      "Processing Record 392 | faanui\n",
      "Processing Record 393 | valdosta\n",
      "Processing Record 394 | yar-sale\n",
      "Processing Record 395 | zyryanovsk\n",
      "Processing Record 396 | maniitsoq\n",
      "Processing Record 397 | ukiah\n",
      "Processing Record 398 | sahrak not found\n",
      "Processing Record 399 | marcona not found\n",
      "Processing Record 400 | pangody\n",
      "Processing Record 401 | fernley\n",
      "Processing Record 402 | san felipe\n",
      "Processing Record 403 | maningrida\n",
      "Processing Record 404 | beloyarskiy\n",
      "Processing Record 405 | caborca\n",
      "Processing Record 406 | honggang\n",
      "Processing Record 407 | miyazu\n",
      "Processing Record 408 | langham\n",
      "Processing Record 409 | vila franca do campo\n",
      "Processing Record 410 | urumqi\n",
      "Processing Record 411 | roald\n",
      "Processing Record 412 | boromo\n",
      "Processing Record 413 | san quintin\n",
      "Processing Record 414 | grande prairie\n",
      "Processing Record 415 | san cristobal\n",
      "Processing Record 416 | grand gaube\n",
      "Processing Record 417 | banugao\n",
      "Processing Record 418 | acajutla\n",
      "Processing Record 419 | halalo not found\n",
      "Processing Record 420 | cuenca\n",
      "Processing Record 421 | rosetta\n",
      "Processing Record 422 | camacha\n",
      "Processing Record 423 | sokolovyy\n",
      "Processing Record 424 | sete\n",
      "Processing Record 425 | marrakesh\n",
      "Processing Record 426 | danville\n",
      "Processing Record 427 | carnduff\n",
      "Processing Record 428 | mporokoso\n",
      "Processing Record 429 | zeya\n",
      "Processing Record 430 | port elizabeth\n",
      "Processing Record 431 | concordia\n",
      "Processing Record 432 | rawannawi not found\n",
      "Processing Record 433 | angoche\n",
      "Processing Record 434 | vestmanna\n",
      "Processing Record 435 | kananga\n",
      "Processing Record 436 | bolshoy tsaryn not found\n",
      "Processing Record 437 | monchegorsk\n",
      "Processing Record 438 | khandyga\n",
      "Processing Record 439 | sinnamary\n",
      "Processing Record 440 | saint anthony\n",
      "Processing Record 441 | dingle\n",
      "Processing Record 442 | raudeberg\n",
      "Processing Record 443 | aykhal\n",
      "Processing Record 444 | berdigestyakh\n",
      "Processing Record 445 | cayenne\n",
      "Processing Record 446 | donauworth\n",
      "Processing Record 447 | kushima\n",
      "Processing Record 448 | la ronge\n",
      "Processing Record 449 | bud\n",
      "Processing Record 450 | porto novo\n",
      "Processing Record 451 | mastic beach\n",
      "Processing Record 452 | piotrkow trybunalski\n",
      "Processing Record 453 | mandera\n",
      "Processing Record 454 | bundaberg\n",
      "Processing Record 455 | vavatenina\n",
      "Processing Record 456 | bilibino\n",
      "Processing Record 457 | sola\n",
      "Processing Record 458 | orlik\n",
      "Processing Record 459 | sault sainte marie\n",
      "Processing Record 460 | bargal not found\n",
      "Processing Record 461 | harrismith\n",
      "Processing Record 462 | mecca\n",
      "Processing Record 463 | kichera\n",
      "Processing Record 464 | zolotinka not found\n",
      "Processing Record 465 | kahului\n",
      "Processing Record 466 | bayir\n",
      "Processing Record 467 | quatis\n",
      "Processing Record 468 | sokoni\n",
      "Processing Record 469 | highland\n",
      "Processing Record 470 | moen\n",
      "Processing Record 471 | ambon\n",
      "Processing Record 472 | marataizes\n",
      "Processing Record 473 | ostersund\n",
      "Processing Record 474 | emerald\n",
      "Processing Record 475 | dunedin\n",
      "Processing Record 476 | caravelas\n",
      "Processing Record 477 | bria\n",
      "Processing Record 478 | jablah\n",
      "Processing Record 479 | dolores\n",
      "Processing Record 480 | rodos\n",
      "Processing Record 481 | newport\n",
      "Processing Record 482 | kostino\n"
     ]
    },
    {
     "name": "stdout",
     "output_type": "stream",
     "text": [
      "Processing Record 483 | port lincoln\n",
      "Processing Record 484 | komsomolskiy\n",
      "Processing Record 485 | bosaso\n",
      "Processing Record 486 | voh\n",
      "Processing Record 487 | poum\n",
      "Processing Record 488 | bam\n",
      "Processing Record 489 | teya\n",
      "Processing Record 490 | hals\n",
      "Processing Record 491 | liepaja\n",
      "Processing Record 492 | barawe not found\n",
      "Processing Record 493 | traverse city\n",
      "Processing Record 494 | palabuhanratu not found\n",
      "Processing Record 495 | chuguyevka\n",
      "Processing Record 496 | hakvik not found\n",
      "Processing Record 497 | sur\n",
      "Processing Record 498 | imbituba\n",
      "Processing Record 499 | ayan\n",
      "Processing Record 500 | valverde del camino\n",
      "Processing Record 501 | fort nelson\n",
      "Processing Record 502 | chatellerault\n",
      "Processing Record 503 | barra do garcas\n",
      "Processing Record 504 | micomeseng\n",
      "Processing Record 505 | cagayan de tawi-tawi not found\n",
      "Processing Record 506 | berdsk\n",
      "Processing Record 507 | miracema do tocantins\n",
      "Processing Record 508 | yeppoon\n",
      "Processing Record 509 | fairbanks\n",
      "Processing Record 510 | salinopolis\n",
      "Processing Record 511 | amarante do maranhao\n",
      "Processing Record 512 | pilar\n",
      "Processing Record 513 | lorengau\n",
      "Processing Record 514 | muscat\n",
      "Processing Record 515 | malim\n",
      "Processing Record 516 | gat\n",
      "Processing Record 517 | mildura\n",
      "Processing Record 518 | katangli\n",
      "Processing Record 519 | kawalu\n",
      "Processing Record 520 | linjiang\n",
      "Processing Record 521 | aflu not found\n",
      "Processing Record 522 | bandar\n",
      "Processing Record 523 | pokaran\n",
      "Processing Record 524 | stoyba not found\n",
      "Processing Record 525 | tessalit\n",
      "Processing Record 526 | escanaba\n",
      "Processing Record 527 | thinadhoo\n",
      "Processing Record 528 | henties bay\n",
      "Processing Record 529 | whitecourt\n",
      "Processing Record 530 | kushmurun\n",
      "Processing Record 531 | nianzishan\n",
      "Processing Record 532 | alihe\n",
      "Processing Record 533 | diamantino\n",
      "Processing Record 534 | maiduguri\n",
      "Processing Record 535 | pangnirtung\n",
      "Processing Record 536 | cartagena\n",
      "Processing Record 537 | japura\n",
      "Processing Record 538 | jumla\n",
      "Processing Record 539 | manono\n",
      "Processing Record 540 | mullaitivu not found\n",
      "Processing Record 541 | marsh harbour\n",
      "Processing Record 542 | warmbad\n",
      "Processing Record 543 | kanniyakumari\n",
      "Processing Record 544 | phan thiet\n",
      "Processing Record 545 | tuma\n",
      "Processing Record 546 | manggar\n",
      "Processing Record 547 | inhambane\n",
      "Processing Record 548 | avera\n",
      "Processing Record 549 | viedma\n",
      "Processing Record 550 | ziro\n",
      "Processing Record 551 | port hueneme\n",
      "Processing Record 552 | nanae\n",
      "Processing Record 553 | marti\n",
      "Processing Record 554 | muros\n",
      "Processing Record 555 | salamanca\n",
      "Processing Record 556 | lapua\n",
      "Processing Record 557 | bartica\n",
      "Processing Record 558 | barreirinha\n",
      "Processing Record 559 | batagay-alyta\n",
      "Processing Record 560 | yerbogachen\n",
      "Processing Record 561 | bejar\n",
      "Processing Record 562 | lashio\n",
      "Processing Record 563 | san carlos del zulia\n",
      "Processing Record 564 | kidal\n",
      "Processing Record 565 | coolum beach\n",
      "Processing Record 566 | ilebo\n",
      "Processing Record 567 | portland\n",
      "Processing Record 568 | paita\n",
      "Processing Record 569 | shache\n",
      "Processing Record 570 | huoqiu\n",
      "Processing Record 571 | umm kaddadah\n",
      "Processing Record 572 | sale\n",
      "Processing Record 573 | kampot\n",
      "Processing Record 574 | baykit\n",
      "Processing Record 575 | samusu not found\n",
      "Processing Record 576 | malwan not found\n",
      "Processing Record 577 | comodoro rivadavia\n",
      "Processing Record 578 | kholm\n",
      "Processing Record 579 | ponta delgada\n",
      "Processing Record 580 | almonte\n",
      "Processing Record 581 | prieska\n",
      "Processing Record 582 | shchelyayur not found\n",
      "Processing Record 583 | karaul not found\n",
      "Processing Record 584 | kefamenanu\n"
     ]
    }
   ],
   "source": [
    "# set up lists to hold reponse info\n",
    "city_name = []\n",
    "cloudiness = []\n",
    "date = []\n",
    "humidity = []\n",
    "lat = []\n",
    "lng = []\n",
    "max_temp = []\n",
    "wind_speed = []\n",
    "country = []\n",
    "record_count = 0\n",
    "\n",
    "# Loop through the list of cities and perform a request for data on each\n",
    "for city in cities:\n",
    "    record_count = record_count + 1\n",
    "    response = requests.get(query_url + city).json()\n",
    "    try:\n",
    "        city_name.append(response['name'])\n",
    "        cloudiness.append(response['clouds']['all'])\n",
    "        date.append(response['dt'])\n",
    "        humidity.append(response['main']['humidity'])\n",
    "        lat.append(response['coord']['lat'])\n",
    "        lng.append(response['coord']['lon'])\n",
    "        max_temp.append(response['main']['temp_max'])\n",
    "        wind_speed.append(response['wind']['speed'])\n",
    "        country.append(response['sys']['country'])\n",
    "        print(\"Processing Record \" + str(record_count) + \" | \" + city)  \n",
    "    except:\n",
    "        print(\"Processing Record \" + str(record_count) + \" | \" + city + \" not found\") \n"
   ]
  },
  {
   "cell_type": "markdown",
   "metadata": {},
   "source": [
    "### Convert Raw Data to DataFrame\n",
    "* Export the city data into a .csv.\n",
    "* Display the DataFrame"
   ]
  },
  {
   "cell_type": "code",
   "execution_count": 9,
   "metadata": {
    "scrolled": false
   },
   "outputs": [
    {
     "data": {
      "text/plain": [
       "City          530\n",
       "Lat           530\n",
       "Lng           530\n",
       "Max Temp      530\n",
       "Humidity      530\n",
       "Cloudiness    530\n",
       "Wind Speed    530\n",
       "Country       530\n",
       "Date          530\n",
       "dtype: int64"
      ]
     },
     "execution_count": 9,
     "metadata": {},
     "output_type": "execute_result"
    }
   ],
   "source": [
    "# Create DataFrame\n",
    "city_weather = pd.DataFrame({\n",
    "    'City': city_name,\n",
    "    'Lat': lat,\n",
    "    'Lng': lng, \n",
    "    'Max Temp': max_temp,\n",
    "    'Humidity': humidity,\n",
    "    'Cloudiness': cloudiness, \n",
    "    'Wind Speed': wind_speed,\n",
    "    'Country': country,\n",
    "    'Date': date})\n",
    "city_weather.count(axis='rows')"
   ]
  },
  {
   "cell_type": "code",
   "execution_count": 10,
   "metadata": {
    "scrolled": true
   },
   "outputs": [
    {
     "data": {
      "text/html": [
       "<div>\n",
       "<style scoped>\n",
       "    .dataframe tbody tr th:only-of-type {\n",
       "        vertical-align: middle;\n",
       "    }\n",
       "\n",
       "    .dataframe tbody tr th {\n",
       "        vertical-align: top;\n",
       "    }\n",
       "\n",
       "    .dataframe thead th {\n",
       "        text-align: right;\n",
       "    }\n",
       "</style>\n",
       "<table border=\"1\" class=\"dataframe\">\n",
       "  <thead>\n",
       "    <tr style=\"text-align: right;\">\n",
       "      <th></th>\n",
       "      <th>City</th>\n",
       "      <th>Lat</th>\n",
       "      <th>Lng</th>\n",
       "      <th>Max Temp</th>\n",
       "      <th>Humidity</th>\n",
       "      <th>Cloudiness</th>\n",
       "      <th>Wind Speed</th>\n",
       "      <th>Country</th>\n",
       "      <th>Date</th>\n",
       "    </tr>\n",
       "  </thead>\n",
       "  <tbody>\n",
       "    <tr>\n",
       "      <th>0</th>\n",
       "      <td>Castro</td>\n",
       "      <td>-24.79</td>\n",
       "      <td>-50.01</td>\n",
       "      <td>69.62</td>\n",
       "      <td>58</td>\n",
       "      <td>100</td>\n",
       "      <td>3.02</td>\n",
       "      <td>BR</td>\n",
       "      <td>1595785538</td>\n",
       "    </tr>\n",
       "    <tr>\n",
       "      <th>1</th>\n",
       "      <td>Port Hedland</td>\n",
       "      <td>-20.32</td>\n",
       "      <td>118.57</td>\n",
       "      <td>59.00</td>\n",
       "      <td>24</td>\n",
       "      <td>17</td>\n",
       "      <td>9.17</td>\n",
       "      <td>AU</td>\n",
       "      <td>1595785533</td>\n",
       "    </tr>\n",
       "    <tr>\n",
       "      <th>2</th>\n",
       "      <td>Ushuaia</td>\n",
       "      <td>-54.80</td>\n",
       "      <td>-68.30</td>\n",
       "      <td>35.60</td>\n",
       "      <td>86</td>\n",
       "      <td>40</td>\n",
       "      <td>21.92</td>\n",
       "      <td>AR</td>\n",
       "      <td>1595785539</td>\n",
       "    </tr>\n",
       "    <tr>\n",
       "      <th>3</th>\n",
       "      <td>Susanville</td>\n",
       "      <td>40.42</td>\n",
       "      <td>-120.65</td>\n",
       "      <td>84.99</td>\n",
       "      <td>19</td>\n",
       "      <td>1</td>\n",
       "      <td>4.70</td>\n",
       "      <td>US</td>\n",
       "      <td>1595785541</td>\n",
       "    </tr>\n",
       "    <tr>\n",
       "      <th>4</th>\n",
       "      <td>Okhotsk</td>\n",
       "      <td>59.38</td>\n",
       "      <td>143.30</td>\n",
       "      <td>50.13</td>\n",
       "      <td>86</td>\n",
       "      <td>1</td>\n",
       "      <td>5.28</td>\n",
       "      <td>RU</td>\n",
       "      <td>1595785541</td>\n",
       "    </tr>\n",
       "  </tbody>\n",
       "</table>\n",
       "</div>"
      ],
      "text/plain": [
       "           City    Lat     Lng  Max Temp  Humidity  Cloudiness  Wind Speed  \\\n",
       "0        Castro -24.79  -50.01     69.62        58         100        3.02   \n",
       "1  Port Hedland -20.32  118.57     59.00        24          17        9.17   \n",
       "2       Ushuaia -54.80  -68.30     35.60        86          40       21.92   \n",
       "3    Susanville  40.42 -120.65     84.99        19           1        4.70   \n",
       "4       Okhotsk  59.38  143.30     50.13        86           1        5.28   \n",
       "\n",
       "  Country        Date  \n",
       "0      BR  1595785538  \n",
       "1      AU  1595785533  \n",
       "2      AR  1595785539  \n",
       "3      US  1595785541  \n",
       "4      RU  1595785541  "
      ]
     },
     "execution_count": 10,
     "metadata": {},
     "output_type": "execute_result"
    }
   ],
   "source": [
    "city_weather.head(5)"
   ]
  },
  {
   "cell_type": "code",
   "execution_count": 12,
   "metadata": {},
   "outputs": [],
   "source": [
    "city_weather.to_csv(\"../output_data/cities_ARD.csv\")"
   ]
  },
  {
   "cell_type": "markdown",
   "metadata": {},
   "source": [
    "## Inspect the data and remove the cities where the humidity > 100%.\n",
    "----\n",
    "Skip this step if there are no cities that have humidity > 100%. "
   ]
  },
  {
   "cell_type": "code",
   "execution_count": 13,
   "metadata": {},
   "outputs": [
    {
     "data": {
      "text/html": [
       "<div>\n",
       "<style scoped>\n",
       "    .dataframe tbody tr th:only-of-type {\n",
       "        vertical-align: middle;\n",
       "    }\n",
       "\n",
       "    .dataframe tbody tr th {\n",
       "        vertical-align: top;\n",
       "    }\n",
       "\n",
       "    .dataframe thead th {\n",
       "        text-align: right;\n",
       "    }\n",
       "</style>\n",
       "<table border=\"1\" class=\"dataframe\">\n",
       "  <thead>\n",
       "    <tr style=\"text-align: right;\">\n",
       "      <th></th>\n",
       "      <th>Lat</th>\n",
       "      <th>Lng</th>\n",
       "      <th>Max Temp</th>\n",
       "      <th>Humidity</th>\n",
       "      <th>Cloudiness</th>\n",
       "      <th>Wind Speed</th>\n",
       "      <th>Date</th>\n",
       "    </tr>\n",
       "  </thead>\n",
       "  <tbody>\n",
       "    <tr>\n",
       "      <th>count</th>\n",
       "      <td>530.00000</td>\n",
       "      <td>530.000000</td>\n",
       "      <td>530.000000</td>\n",
       "      <td>530.000000</td>\n",
       "      <td>530.000000</td>\n",
       "      <td>530.000000</td>\n",
       "      <td>5.300000e+02</td>\n",
       "    </tr>\n",
       "    <tr>\n",
       "      <th>mean</th>\n",
       "      <td>19.65800</td>\n",
       "      <td>16.837679</td>\n",
       "      <td>69.972019</td>\n",
       "      <td>68.877358</td>\n",
       "      <td>48.560377</td>\n",
       "      <td>8.183981</td>\n",
       "      <td>1.595786e+09</td>\n",
       "    </tr>\n",
       "    <tr>\n",
       "      <th>std</th>\n",
       "      <td>34.06138</td>\n",
       "      <td>91.610949</td>\n",
       "      <td>14.495492</td>\n",
       "      <td>20.958282</td>\n",
       "      <td>36.448233</td>\n",
       "      <td>5.689879</td>\n",
       "      <td>8.238090e+01</td>\n",
       "    </tr>\n",
       "    <tr>\n",
       "      <th>min</th>\n",
       "      <td>-54.80000</td>\n",
       "      <td>-179.170000</td>\n",
       "      <td>35.010000</td>\n",
       "      <td>3.000000</td>\n",
       "      <td>0.000000</td>\n",
       "      <td>0.270000</td>\n",
       "      <td>1.595785e+09</td>\n",
       "    </tr>\n",
       "    <tr>\n",
       "      <th>25%</th>\n",
       "      <td>-9.53250</td>\n",
       "      <td>-64.222500</td>\n",
       "      <td>58.900000</td>\n",
       "      <td>58.000000</td>\n",
       "      <td>17.250000</td>\n",
       "      <td>4.145000</td>\n",
       "      <td>1.595786e+09</td>\n",
       "    </tr>\n",
       "    <tr>\n",
       "      <th>50%</th>\n",
       "      <td>23.36500</td>\n",
       "      <td>22.205000</td>\n",
       "      <td>70.645000</td>\n",
       "      <td>74.000000</td>\n",
       "      <td>40.000000</td>\n",
       "      <td>6.930000</td>\n",
       "      <td>1.595786e+09</td>\n",
       "    </tr>\n",
       "    <tr>\n",
       "      <th>75%</th>\n",
       "      <td>49.77250</td>\n",
       "      <td>98.322500</td>\n",
       "      <td>80.600000</td>\n",
       "      <td>85.000000</td>\n",
       "      <td>86.000000</td>\n",
       "      <td>11.247500</td>\n",
       "      <td>1.595786e+09</td>\n",
       "    </tr>\n",
       "    <tr>\n",
       "      <th>max</th>\n",
       "      <td>78.22000</td>\n",
       "      <td>179.320000</td>\n",
       "      <td>107.010000</td>\n",
       "      <td>100.000000</td>\n",
       "      <td>100.000000</td>\n",
       "      <td>55.990000</td>\n",
       "      <td>1.595786e+09</td>\n",
       "    </tr>\n",
       "  </tbody>\n",
       "</table>\n",
       "</div>"
      ],
      "text/plain": [
       "             Lat         Lng    Max Temp    Humidity  Cloudiness  Wind Speed  \\\n",
       "count  530.00000  530.000000  530.000000  530.000000  530.000000  530.000000   \n",
       "mean    19.65800   16.837679   69.972019   68.877358   48.560377    8.183981   \n",
       "std     34.06138   91.610949   14.495492   20.958282   36.448233    5.689879   \n",
       "min    -54.80000 -179.170000   35.010000    3.000000    0.000000    0.270000   \n",
       "25%     -9.53250  -64.222500   58.900000   58.000000   17.250000    4.145000   \n",
       "50%     23.36500   22.205000   70.645000   74.000000   40.000000    6.930000   \n",
       "75%     49.77250   98.322500   80.600000   85.000000   86.000000   11.247500   \n",
       "max     78.22000  179.320000  107.010000  100.000000  100.000000   55.990000   \n",
       "\n",
       "               Date  \n",
       "count  5.300000e+02  \n",
       "mean   1.595786e+09  \n",
       "std    8.238090e+01  \n",
       "min    1.595785e+09  \n",
       "25%    1.595786e+09  \n",
       "50%    1.595786e+09  \n",
       "75%    1.595786e+09  \n",
       "max    1.595786e+09  "
      ]
     },
     "execution_count": 13,
     "metadata": {},
     "output_type": "execute_result"
    }
   ],
   "source": [
    "city_weather.describe()"
   ]
  },
  {
   "cell_type": "code",
   "execution_count": 14,
   "metadata": {},
   "outputs": [],
   "source": [
    "#  Get the indices of cities that have humidity over 100%.\n",
    "# skipping step as none of the cities have humidity over 100%"
   ]
  },
  {
   "cell_type": "code",
   "execution_count": 15,
   "metadata": {},
   "outputs": [],
   "source": [
    "# Make a new DataFrame equal to the city data to drop all humidity outliers by index.\n",
    "# Passing \"inplace=False\" will make a copy of the city_data DataFrame, which we call \"clean_city_data\".\n"
   ]
  },
  {
   "cell_type": "code",
   "execution_count": 16,
   "metadata": {},
   "outputs": [],
   "source": [
    "# Extract relevant fields from the data frame\n",
    "# Export the City_Data into a csv\n",
    "# skipping step as none of the cities have humidity over 100%"
   ]
  },
  {
   "cell_type": "markdown",
   "metadata": {},
   "source": [
    "## Plotting the Data\n",
    "* Use proper labeling of the plots using plot titles (including date of analysis) and axes labels.\n",
    "* Save the plotted figures as .pngs."
   ]
  },
  {
   "cell_type": "markdown",
   "metadata": {},
   "source": [
    "## Latitude vs. Temperature Plot"
   ]
  },
  {
   "cell_type": "code",
   "execution_count": 20,
   "metadata": {
    "scrolled": true
   },
   "outputs": [
    {
     "data": {
      "text/plain": [
       "Text(0, 0.5, 'Max Temperature (F)')"
      ]
     },
     "execution_count": 20,
     "metadata": {},
     "output_type": "execute_result"
    },
    {
     "data": {
      "image/png": "[encoded data removed]",
      "text/plain": [
       "<Figure size 432x288 with 1 Axes>"
      ]
     },
     "metadata": {
      "needs_background": "light"
     },
     "output_type": "display_data"
    }
   ],
   "source": [
    "x_axis = city_weather[\"Lat\"]\n",
    "y_axis = city_weather[\"Max Temp\"]\n",
    "\n",
    "plt.scatter(x_axis, y_axis, marker=\"o\", facecolors=\"blue\", edgecolors=\"black\")\n",
    "plt.title(\"City Latitude vs. Max Temperature (\" + str(city_weather[\"Date\"][0]) + \")\")\n",
    "plt.xlabel(\"Latitude\")\n",
    "plt.ylabel(\"Max Temperature (F)\")"
   ]
  },
  {
   "cell_type": "markdown",
   "metadata": {},
   "source": [
    "## Latitude vs. Humidity Plot"
   ]
  },
  {
   "cell_type": "code",
   "execution_count": 21,
   "metadata": {},
   "outputs": [
    {
     "data": {
      "text/plain": [
       "Text(0, 0.5, 'Humidity (%)')"
      ]
     },
     "execution_count": 21,
     "metadata": {},
     "output_type": "execute_result"
    },
    {
     "data": {
      "image/png": "[encoded data removed]",
      "text/plain": [
       "<Figure size 432x288 with 1 Axes>"
      ]
     },
     "metadata": {
      "needs_background": "light"
     },
     "output_type": "display_data"
    }
   ],
   "source": [
    "x_axis = city_weather[\"Lat\"]\n",
    "y_axis = city_weather[\"Humidity\"]\n",
    "\n",
    "plt.scatter(x_axis, y_axis, marker=\"o\", facecolors=\"blue\", edgecolors=\"black\")\n",
    "plt.title(\"City Latitude vs. Humidity (\" + str(city_weather[\"Date\"][0]) + \")\")\n",
    "plt.xlabel(\"Latitude\")\n",
    "plt.ylabel(\"Humidity (%)\")"
   ]
  },
  {
   "cell_type": "markdown",
   "metadata": {},
   "source": [
    "## Latitude vs. Cloudiness Plot"
   ]
  },
  {
   "cell_type": "code",
   "execution_count": 22,
   "metadata": {},
   "outputs": [
    {
     "data": {
      "text/plain": [
       "Text(0, 0.5, 'Cloudiness (%)')"
      ]
     },
     "execution_count": 22,
     "metadata": {},
     "output_type": "execute_result"
    },
    {
     "data": {
      "image/png": "[encoded data removed]",
      "text/plain": [
       "<Figure size 432x288 with 1 Axes>"
      ]
     },
     "metadata": {
      "needs_background": "light"
     },
     "output_type": "display_data"
    }
   ],
   "source": [
    "x_axis = city_weather[\"Lat\"]\n",
    "y_axis = city_weather[\"Cloudiness\"]\n",
    "\n",
    "plt.scatter(x_axis, y_axis, marker=\"o\", facecolors=\"blue\", edgecolors=\"black\")\n",
    "plt.title(\"City Latitude vs. Cloudiness (\" + str(city_weather[\"Date\"][0]) + \")\")\n",
    "plt.xlabel(\"Latitude\")\n",
    "plt.ylabel(\"Cloudiness (%)\")"
   ]
  },
  {
   "cell_type": "markdown",
   "metadata": {},
   "source": [
    "## Latitude vs. Wind Speed Plot"
   ]
  },
  {
   "cell_type": "code",
   "execution_count": 23,
   "metadata": {},
   "outputs": [
    {
     "data": {
      "text/plain": [
       "Text(0, 0.5, 'Wind Speed (mph)')"
      ]
     },
     "execution_count": 23,
     "metadata": {},
     "output_type": "execute_result"
    },
    {
     "data": {
      "image/png": "[encoded data removed]",
      "text/plain": [
       "<Figure size 432x288 with 1 Axes>"
      ]
     },
     "metadata": {
      "needs_background": "light"
     },
     "output_type": "display_data"
    }
   ],
   "source": [
    "x_axis = city_weather[\"Lat\"]\n",
    "y_axis = city_weather[\"Wind Speed\"]\n",
    "\n",
    "plt.scatter(x_axis, y_axis, marker=\"o\", facecolors=\"blue\", edgecolors=\"black\")\n",
    "plt.title(\"City Latitude vs. Wind Speed (\" + str(city_weather[\"Date\"][0]) + \")\")\n",
    "plt.xlabel(\"Latitude\")\n",
    "plt.ylabel(\"Wind Speed (mph)\")"
   ]
  },
  {
   "cell_type": "markdown",
   "metadata": {},
   "source": [
    "## Linear Regression"
   ]
  },
  {
   "cell_type": "code",
   "execution_count": 93,
   "metadata": {},
   "outputs": [],
   "source": [
    "# OPTIONAL: Create a function to create Linear Regression plots"
   ]
  },
  {
   "cell_type": "code",
   "execution_count": 94,
   "metadata": {},
   "outputs": [],
   "source": [
    "# Create Northern and Southern Hemisphere DataFrames\n",
    "northern_df = city_weather[city_weather.Lat > 0]\n",
    "southern_df = city_weather[city_weather.Lat <= 0]\n"
   ]
  },
  {
   "cell_type": "markdown",
   "metadata": {},
   "source": [
    "####  Northern Hemisphere - Max Temp vs. Latitude Linear Regression"
   ]
  },
  {
   "cell_type": "code",
   "execution_count": 86,
   "metadata": {},
   "outputs": [
    {
     "name": "stdout",
     "output_type": "stream",
     "text": [
      "The r-squared is: 0.4916763106308609\n"
     ]
    },
    {
     "data": {
      "image/png": "[encoded data removed]",
      "text/plain": [
       "<Figure size 432x288 with 1 Axes>"
      ]
     },
     "metadata": {
      "needs_background": "light"
     },
     "output_type": "display_data"
    }
   ],
   "source": [
    "x_values = northern_df[\"Lat\"]\n",
    "y_values = northern_df[\"Max Temp\"]\n",
    "\n",
    "(slope, intercept, rvalue, pvalue, stderr) = linregress(x_values, y_values)\n",
    "regress_values = x_values * slope + intercept\n",
    "line_eq = \"y = \" + str(round(slope,2)) + \"x + \" + str(round(intercept,2))\n",
    "plt.scatter(x_values,y_values)\n",
    "plt.plot(x_values,regress_values,\"r-\")\n",
    "plt.annotate(line_eq,(6,10),fontsize=15,color=\"red\")\n",
    "plt.xlabel(\"Latitude\")\n",
    "plt.ylabel(\"Max Temperature (F)\")\n",
    "print(f\"The r-squared is: {rvalue**2}\")\n",
    "plt.show()\n"
   ]
  },
  {
   "cell_type": "markdown",
   "metadata": {},
   "source": [
    "####  Southern Hemisphere - Max Temp vs. Latitude Linear Regression"
   ]
  },
  {
   "cell_type": "code",
   "execution_count": 85,
   "metadata": {},
   "outputs": [
    {
     "name": "stdout",
     "output_type": "stream",
     "text": [
      "The r-squared is: 0.6712071480777235\n"
     ]
    },
    {
     "data": {
      "image/png": "[encoded data removed]",
      "text/plain": [
       "<Figure size 432x288 with 1 Axes>"
      ]
     },
     "metadata": {
      "needs_background": "light"
     },
     "output_type": "display_data"
    }
   ],
   "source": [
    "x_values = southern_df[\"Lat\"]\n",
    "y_values = southern_df[\"Max Temp\"]\n",
    "\n",
    "(slope, intercept, rvalue, pvalue, stderr) = linregress(x_values, y_values)\n",
    "regress_values = x_values * slope + intercept\n",
    "line_eq = \"y = \" + str(round(slope,2)) + \"x + \" + str(round(intercept,2))\n",
    "plt.scatter(x_values,y_values)\n",
    "plt.plot(x_values,regress_values,\"r-\")\n",
    "plt.annotate(line_eq,(6,10),fontsize=15,color=\"red\")\n",
    "plt.xlabel(\"Latitude\")\n",
    "plt.ylabel(\"Max Temperature (F)\")\n",
    "print(f\"The r-squared is: {rvalue**2}\")\n",
    "plt.show()"
   ]
  },
  {
   "cell_type": "markdown",
   "metadata": {},
   "source": [
    "####  Northern Hemisphere - Humidity (%) vs. Latitude Linear Regression"
   ]
  },
  {
   "cell_type": "code",
   "execution_count": 84,
   "metadata": {},
   "outputs": [
    {
     "name": "stdout",
     "output_type": "stream",
     "text": [
      "The r-squared is: 0.0015736181501327736\n"
     ]
    },
    {
     "data": {
      "image/png": "[encoded data removed]",
      "text/plain": [
       "<Figure size 432x288 with 1 Axes>"
      ]
     },
     "metadata": {
      "needs_background": "light"
     },
     "output_type": "display_data"
    }
   ],
   "source": [
    "x_values = northern_df[\"Lat\"]\n",
    "y_values = northern_df[\"Humidity\"]\n",
    "\n",
    "(slope, intercept, rvalue, pvalue, stderr) = linregress(x_values, y_values)\n",
    "regress_values = x_values * slope + intercept\n",
    "line_eq = \"y = \" + str(round(slope,2)) + \"x + \" + str(round(intercept,2))\n",
    "plt.scatter(x_values,y_values)\n",
    "plt.plot(x_values,regress_values,\"r-\")\n",
    "plt.annotate(line_eq,(6,10),fontsize=15,color=\"red\")\n",
    "plt.xlabel(\"Latitude\")\n",
    "plt.ylabel(\"Humidity (%)\")\n",
    "print(f\"The r-squared is: {rvalue**2}\")\n",
    "plt.show()"
   ]
  },
  {
   "cell_type": "markdown",
   "metadata": {},
   "source": [
    "####  Southern Hemisphere - Humidity (%) vs. Latitude Linear Regression"
   ]
  },
  {
   "cell_type": "code",
   "execution_count": 87,
   "metadata": {},
   "outputs": [
    {
     "name": "stdout",
     "output_type": "stream",
     "text": [
      "The r-squared is: 0.035433552161751154\n"
     ]
    },
    {
     "data": {
      "image/png": "[encoded data removed]",
      "text/plain": [
       "<Figure size 432x288 with 1 Axes>"
      ]
     },
     "metadata": {
      "needs_background": "light"
     },
     "output_type": "display_data"
    }
   ],
   "source": [
    "x_values = southern_df[\"Lat\"]\n",
    "y_values = southern_df[\"Humidity\"]\n",
    "\n",
    "(slope, intercept, rvalue, pvalue, stderr) = linregress(x_values, y_values)\n",
    "regress_values = x_values * slope + intercept\n",
    "line_eq = \"y = \" + str(round(slope,2)) + \"x + \" + str(round(intercept,2))\n",
    "plt.scatter(x_values,y_values)\n",
    "plt.plot(x_values,regress_values,\"r-\")\n",
    "plt.annotate(line_eq,(6,10),fontsize=15,color=\"red\")\n",
    "plt.xlabel(\"Latitude\")\n",
    "plt.ylabel(\"Humidity (%)\")\n",
    "print(f\"The r-squared is: {rvalue**2}\")\n",
    "plt.show()"
   ]
  },
  {
   "cell_type": "markdown",
   "metadata": {},
   "source": [
    "####  Northern Hemisphere - Cloudiness (%) vs. Latitude Linear Regression"
   ]
  },
  {
   "cell_type": "code",
   "execution_count": 88,
   "metadata": {},
   "outputs": [
    {
     "name": "stdout",
     "output_type": "stream",
     "text": [
      "The r-squared is: 0.005892890728867439\n"
     ]
    },
    {
     "data": {
      "image/png": "[encoded data removed]",
      "text/plain": [
       "<Figure size 432x288 with 1 Axes>"
      ]
     },
     "metadata": {
      "needs_background": "light"
     },
     "output_type": "display_data"
    }
   ],
   "source": [
    "x_values = northern_df[\"Lat\"]\n",
    "y_values = northern_df[\"Cloudiness\"]\n",
    "\n",
    "(slope, intercept, rvalue, pvalue, stderr) = linregress(x_values, y_values)\n",
    "regress_values = x_values * slope + intercept\n",
    "line_eq = \"y = \" + str(round(slope,2)) + \"x + \" + str(round(intercept,2))\n",
    "plt.scatter(x_values,y_values)\n",
    "plt.plot(x_values,regress_values,\"r-\")\n",
    "plt.annotate(line_eq,(6,10),fontsize=15,color=\"red\")\n",
    "plt.xlabel(\"Latitude\")\n",
    "plt.ylabel(\"Cloudiness (%)\")\n",
    "print(f\"The r-squared is: {rvalue**2}\")\n",
    "plt.show()"
   ]
  },
  {
   "cell_type": "markdown",
   "metadata": {},
   "source": [
    "####  Southern Hemisphere - Cloudiness (%) vs. Latitude Linear Regression"
   ]
  },
  {
   "cell_type": "code",
   "execution_count": 89,
   "metadata": {},
   "outputs": [
    {
     "name": "stdout",
     "output_type": "stream",
     "text": [
      "The r-squared is: 1.585850005002992e-06\n"
     ]
    },
    {
     "data": {
      "image/png": "[encoded data removed]",
      "text/plain": [
       "<Figure size 432x288 with 1 Axes>"
      ]
     },
     "metadata": {
      "needs_background": "light"
     },
     "output_type": "display_data"
    }
   ],
   "source": [
    "x_values = southern_df[\"Lat\"]\n",
    "y_values = southern_df[\"Cloudiness\"]\n",
    "\n",
    "(slope, intercept, rvalue, pvalue, stderr) = linregress(x_values, y_values)\n",
    "regress_values = x_values * slope + intercept\n",
    "line_eq = \"y = \" + str(round(slope,2)) + \"x + \" + str(round(intercept,2))\n",
    "plt.scatter(x_values,y_values)\n",
    "plt.plot(x_values,regress_values,\"r-\")\n",
    "plt.annotate(line_eq,(6,10),fontsize=15,color=\"red\")\n",
    "plt.xlabel(\"Latitude\")\n",
    "plt.ylabel(\"Cloudiness (%)\")\n",
    "print(f\"The r-squared is: {rvalue**2}\")\n",
    "plt.show()"
   ]
  },
  {
   "cell_type": "markdown",
   "metadata": {},
   "source": [
    "####  Northern Hemisphere - Wind Speed (mph) vs. Latitude Linear Regression"
   ]
  },
  {
   "cell_type": "code",
   "execution_count": 91,
   "metadata": {},
   "outputs": [
    {
     "name": "stdout",
     "output_type": "stream",
     "text": [
      "The r-squared is: 9.175791613201065e-05\n"
     ]
    },
    {
     "data": {
      "image/png": "[encoded data removed]",
      "text/plain": [
       "<Figure size 432x288 with 1 Axes>"
      ]
     },
     "metadata": {
      "needs_background": "light"
     },
     "output_type": "display_data"
    }
   ],
   "source": [
    "x_values = northern_df[\"Lat\"]\n",
    "y_values = northern_df[\"Wind Speed\"]\n",
    "\n",
    "(slope, intercept, rvalue, pvalue, stderr) = linregress(x_values, y_values)\n",
    "regress_values = x_values * slope + intercept\n",
    "line_eq = \"y = \" + str(round(slope,2)) + \"x + \" + str(round(intercept,2))\n",
    "plt.scatter(x_values,y_values)\n",
    "plt.plot(x_values,regress_values,\"r-\")\n",
    "plt.annotate(line_eq,(6,10),fontsize=15,color=\"red\")\n",
    "plt.xlabel(\"Latitude\")\n",
    "plt.ylabel(\"Wind Speed (mph)\")\n",
    "print(f\"The r-squared is: {rvalue**2}\")\n",
    "plt.show()"
   ]
  },
  {
   "cell_type": "markdown",
   "metadata": {},
   "source": [
    "####  Southern Hemisphere - Wind Speed (mph) vs. Latitude Linear Regression"
   ]
  },
  {
   "cell_type": "code",
   "execution_count": 92,
   "metadata": {},
   "outputs": [
    {
     "name": "stdout",
     "output_type": "stream",
     "text": [
      "The r-squared is: 0.004000635390143169\n"
     ]
    },
    {
     "data": {
      "image/png": "[encoded data removed]",
      "text/plain": [
       "<Figure size 432x288 with 1 Axes>"
      ]
     },
     "metadata": {
      "needs_background": "light"
     },
     "output_type": "display_data"
    }
   ],
   "source": [
    "x_values = southern_df[\"Lat\"]\n",
    "y_values = southern_df[\"Wind Speed\"]\n",
    "\n",
    "(slope, intercept, rvalue, pvalue, stderr) = linregress(x_values, y_values)\n",
    "regress_values = x_values * slope + intercept\n",
    "line_eq = \"y = \" + str(round(slope,2)) + \"x + \" + str(round(intercept,2))\n",
    "plt.scatter(x_values,y_values)\n",
    "plt.plot(x_values,regress_values,\"r-\")\n",
    "plt.annotate(line_eq,(6,10),fontsize=15,color=\"red\")\n",
    "plt.xlabel(\"Latitude\")\n",
    "plt.ylabel(\"Wind Speed (mph)\")\n",
    "print(f\"The r-squared is: {rvalue**2}\")\n",
    "plt.show()"
   ]
  },
  {
   "cell_type": "code",
   "execution_count": null,
   "metadata": {},
   "outputs": [],
   "source": []
  }
 ],
 "metadata": {
  "anaconda-cloud": {},
  "kernel_info": {
   "name": "python3"
  },
  "kernelspec": {
   "display_name": "Python [conda env:PythonData] *",
   "language": "python",
   "name": "conda-env-PythonData-py"
  },
  "language_info": {
   "codemirror_mode": {
    "name": "ipython",
    "version": 3
   },
   "file_extension": ".py",
   "mimetype": "text/x-python",
   "name": "python",
   "nbconvert_exporter": "python",
   "pygments_lexer": "ipython3",
   "version": "3.6.10"
  },
  "latex_envs": {
   "LaTeX_envs_menu_present": true,
   "autoclose": false,
   "autocomplete": true,
   "bibliofile": "biblio.bib",
   "cite_by": "apalike",
   "current_citInitial": 1,
   "eqLabelWithNumbers": true,
   "eqNumInitial": 1,
   "hotkeys": {
    "equation": "Ctrl-E",
    "itemize": "Ctrl-I"
   },
   "labels_anchors": false,
   "latex_user_defs": false,
   "report_style_numbering": false,
   "user_envs_cfg": false
  },
  "nteract": {
   "version": "0.12.3"
  }
 },
 "nbformat": 4,
 "nbformat_minor": 2
}
